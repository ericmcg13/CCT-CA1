{
  "nbformat": 4,
  "nbformat_minor": 0,
  "metadata": {
    "colab": {
      "name": "CA1 - Report.ipynb",
      "provenance": [],
      "collapsed_sections": [],
      "include_colab_link": true
    },
    "kernelspec": {
      "name": "python3",
      "display_name": "Python 3"
    },
    "language_info": {
      "name": "python"
    },
    "widgets": {
      "application/vnd.jupyter.widget-state+json": {
        "1fd00d83b7f74cf496630548512ac2fb": {
          "model_module": "jupyter-leaflet",
          "model_name": "LeafletMapModel",
          "model_module_version": "^0.14.0",
          "state": {
            "_view_name": "LeafletMapView",
            "keyboard_pan_offset": 80,
            "right": 8357,
            "tap": true,
            "_view_module": "jupyter-leaflet",
            "max_zoom": 18,
            "_model_module_version": "^0.14.0",
            "_view_count": null,
            "zoom_snap": 1,
            "min_zoom": 1,
            "bounce_at_zoom_limits": true,
            "keyboard": true,
            "north": 55.68997171381322,
            "scroll_wheel_zoom": false,
            "dragging": true,
            "_model_module": "jupyter-leaflet",
            "zoom_delta": 1,
            "close_popup_on_click": true,
            "fullscreen": false,
            "style": "IPY_MODEL_75b4791c959643d7a1e5f69d286adb0a",
            "layout": "IPY_MODEL_e1b7abd8879e4268a5ae81bcc5ce99b9",
            "bottom": 5527,
            "inertia_max_speed": 1500,
            "top": 5127,
            "box_zoom": true,
            "controls": [
              "IPY_MODEL_6f43feeedafe49598e403fb4ab92a578",
              "IPY_MODEL_c82c65c5369d473ca2e05f3def7f8653"
            ],
            "default_style": "IPY_MODEL_3510806dc7d34786844e5c3db7e6f851",
            "east": 3.6254882812500004,
            "double_click_zoom": true,
            "interpolation": "bilinear",
            "layers": [
              "IPY_MODEL_87a7c2fbbc864865a0f1976cca354332",
              "IPY_MODEL_2f28ce5d4b724eecbeb4972295b70661"
            ],
            "dragging_style": "IPY_MODEL_f377b940904847edbd11078aa6928725",
            "_dom_classes": [],
            "zoom_animation_threshold": 4,
            "_model_name": "LeafletMapModel",
            "zoom_start": 12,
            "modisdate": "yesterday",
            "keyboard_zoom_offset": 1,
            "inertia_deceleration": 3000,
            "inertia": true,
            "crs": {
              "name": "EPSG3857",
              "custom": false
            },
            "center": [
              53.128,
              -7.5
            ],
            "zoom": 6,
            "world_copy_jump": false,
            "_view_module_version": "^0.14.0",
            "window_url": "https://j6vmwqsmktn-496ff2e9c6d22116-0-colab.googleusercontent.com/outputframe.html?vrz=colab-20211118-060053-RC00_410742426",
            "tap_tolerance": 15,
            "west": -18.632812500000004,
            "touch_zoom": true,
            "options": [
              "bounce_at_zoom_limits",
              "box_zoom",
              "center",
              "close_popup_on_click",
              "double_click_zoom",
              "dragging",
              "fullscreen",
              "inertia",
              "inertia_deceleration",
              "inertia_max_speed",
              "interpolation",
              "keyboard",
              "keyboard_pan_offset",
              "keyboard_zoom_offset",
              "max_zoom",
              "min_zoom",
              "scroll_wheel_zoom",
              "tap",
              "tap_tolerance",
              "touch_zoom",
              "world_copy_jump",
              "zoom",
              "zoom_animation_threshold",
              "zoom_delta",
              "zoom_snap",
              "zoom_start"
            ],
            "south": 50.41551870402678,
            "left": 7344
          }
        },
        "75b4791c959643d7a1e5f69d286adb0a": {
          "model_module": "jupyter-leaflet",
          "model_name": "LeafletMapStyleModel",
          "model_module_version": "^0.14.0",
          "state": {
            "_view_name": "StyleView",
            "_model_name": "LeafletMapStyleModel",
            "_view_module": "@jupyter-widgets/base",
            "_model_module_version": "^0.14.0",
            "_view_count": null,
            "cursor": "grab",
            "_view_module_version": "1.2.0",
            "_model_module": "jupyter-leaflet"
          }
        },
        "e1b7abd8879e4268a5ae81bcc5ce99b9": {
          "model_module": "@jupyter-widgets/base",
          "model_name": "LayoutModel",
          "model_module_version": "1.2.0",
          "state": {
            "_view_name": "LayoutView",
            "grid_template_rows": null,
            "right": null,
            "justify_content": null,
            "_view_module": "@jupyter-widgets/base",
            "overflow": null,
            "_model_module_version": "1.2.0",
            "_view_count": null,
            "flex_flow": null,
            "width": null,
            "min_width": null,
            "border": null,
            "align_items": null,
            "bottom": null,
            "_model_module": "@jupyter-widgets/base",
            "top": null,
            "grid_column": null,
            "overflow_y": null,
            "overflow_x": null,
            "grid_auto_flow": null,
            "grid_area": null,
            "grid_template_columns": null,
            "flex": null,
            "_model_name": "LayoutModel",
            "justify_items": null,
            "grid_row": null,
            "max_height": null,
            "align_content": null,
            "visibility": null,
            "align_self": null,
            "height": null,
            "min_height": null,
            "padding": null,
            "grid_auto_rows": null,
            "grid_gap": null,
            "max_width": null,
            "order": null,
            "_view_module_version": "1.2.0",
            "grid_template_areas": null,
            "object_position": null,
            "object_fit": null,
            "grid_auto_columns": null,
            "margin": null,
            "display": null,
            "left": null
          }
        },
        "6f43feeedafe49598e403fb4ab92a578": {
          "model_module": "jupyter-leaflet",
          "model_name": "LeafletZoomControlModel",
          "model_module_version": "^0.14.0",
          "state": {
            "_view_name": "LeafletZoomControlView",
            "zoom_in_title": "Zoom in",
            "_model_name": "LeafletZoomControlModel",
            "_view_module": "jupyter-leaflet",
            "_model_module_version": "^0.14.0",
            "_view_count": null,
            "_view_module_version": "^0.14.0",
            "zoom_out_title": "Zoom out",
            "position": "topleft",
            "zoom_in_text": "+",
            "_model_module": "jupyter-leaflet",
            "options": [
              "position",
              "zoom_in_text",
              "zoom_in_title",
              "zoom_out_text",
              "zoom_out_title"
            ],
            "zoom_out_text": "-"
          }
        },
        "c82c65c5369d473ca2e05f3def7f8653": {
          "model_module": "jupyter-leaflet",
          "model_name": "LeafletAttributionControlModel",
          "model_module_version": "^0.14.0",
          "state": {
            "_view_name": "LeafletAttributionControlView",
            "prefix": "ipyleaflet",
            "_model_name": "LeafletAttributionControlModel",
            "_view_module": "jupyter-leaflet",
            "_model_module_version": "^0.14.0",
            "_view_count": null,
            "_view_module_version": "^0.14.0",
            "position": "bottomright",
            "_model_module": "jupyter-leaflet",
            "options": [
              "position",
              "prefix"
            ]
          }
        },
        "3510806dc7d34786844e5c3db7e6f851": {
          "model_module": "jupyter-leaflet",
          "model_name": "LeafletMapStyleModel",
          "model_module_version": "^0.14.0",
          "state": {
            "_view_name": "StyleView",
            "_model_name": "LeafletMapStyleModel",
            "_view_module": "@jupyter-widgets/base",
            "_model_module_version": "^0.14.0",
            "_view_count": null,
            "cursor": "grab",
            "_view_module_version": "1.2.0",
            "_model_module": "jupyter-leaflet"
          }
        },
        "87a7c2fbbc864865a0f1976cca354332": {
          "model_module": "jupyter-leaflet",
          "model_name": "LeafletTileLayerModel",
          "model_module_version": "^0.14.0",
          "state": {
            "_view_name": "LeafletTileLayerView",
            "_view_module": "jupyter-leaflet",
            "max_zoom": 19,
            "_model_module_version": "^0.14.0",
            "_view_count": null,
            "visible": true,
            "min_zoom": 1,
            "tms": false,
            "_model_module": "jupyter-leaflet",
            "loading": false,
            "bottom": true,
            "no_wrap": false,
            "tile_size": 256,
            "popup_min_width": 50,
            "opacity": 1,
            "popup": null,
            "attribution": "Map data (c) <a href=\"https://openstreetmap.org\">OpenStreetMap</a> contributors",
            "_model_name": "LeafletTileLayerModel",
            "max_native_zoom": 18,
            "base": true,
            "min_native_zoom": 0,
            "show_loading": false,
            "name": "OpenStreetMap.Mapnik",
            "url": "https://{s}.tile.openstreetmap.org/{z}/{x}/{y}.png",
            "popup_max_height": null,
            "popup_max_width": 300,
            "detect_retina": false,
            "_view_module_version": "^0.14.0",
            "options": [
              "attribution",
              "detect_retina",
              "max_native_zoom",
              "max_zoom",
              "min_native_zoom",
              "min_zoom",
              "no_wrap",
              "tile_size",
              "tms"
            ]
          }
        },
        "f377b940904847edbd11078aa6928725": {
          "model_module": "jupyter-leaflet",
          "model_name": "LeafletMapStyleModel",
          "model_module_version": "^0.14.0",
          "state": {
            "_view_name": "StyleView",
            "_model_name": "LeafletMapStyleModel",
            "_view_module": "@jupyter-widgets/base",
            "_model_module_version": "^0.14.0",
            "_view_count": null,
            "cursor": "move",
            "_view_module_version": "1.2.0",
            "_model_module": "jupyter-leaflet"
          }
        },
        "2f28ce5d4b724eecbeb4972295b70661": {
          "model_module": "jupyter-leaflet",
          "model_name": "LeafletGeoJSONModel",
          "model_module_version": "^0.14.0",
          "state": {
            "_view_name": "LeafletGeoJSONView",
            "layers": [],
            "style": {},
            "bottom": false,
            "name": "",
            "hover_style": {},
            "_model_name": "LeafletGeoJSONModel",
            "data": {
              "type": "FeatureCollection",
              "features": [
                {
                  "geometry": {
                    "type": "Polygon",
                    "coordinates": [
                      [
                        [
                          -6.592415,
                          52.708085
                        ],
                        [
                          -6.614788,
                          52.654218
                        ],
                        [
                          -6.71789,
                          52.633128
                        ],
                        [
                          -6.810019,
                          52.481218
                        ],
                        [
                          -6.916185,
                          52.446304
                        ],
                        [
                          -6.914688,
                          52.590519
                        ],
                        [
                          -6.975609,
                          52.653791
                        ],
                        [
                          -6.952951,
                          52.705377
                        ],
                        [
                          -7.090468,
                          52.732311
                        ],
                        [
                          -7.072441,
                          52.797934
                        ],
                        [
                          -7.065957,
                          52.822872
                        ],
                        [
                          -6.915828,
                          52.856717
                        ],
                        [
                          -6.735489,
                          52.884007
                        ],
                        [
                          -6.712332,
                          52.924335
                        ],
                        [
                          -6.463234,
                          52.893982
                        ],
                        [
                          -6.51247,
                          52.826791
                        ],
                        [
                          -6.631176,
                          52.831494
                        ],
                        [
                          -6.592415,
                          52.708085
                        ]
                      ]
                    ]
                  },
                  "type": "Feature",
                  "id": "Carlow",
                  "properties": {
                    "style": {
                      "color": "black",
                      "fillColor": "#feedd2ff",
                      "weight": 0.9
                    },
                    "id": "Carlow"
                  }
                },
                {
                  "geometry": {
                    "type": "Polygon",
                    "coordinates": [
                      [
                        [
                          -7.311848,
                          54.114105
                        ],
                        [
                          -7.188226,
                          54.079548
                        ],
                        [
                          -7.03596,
                          54.08653
                        ],
                        [
                          -6.753231,
                          53.901916
                        ],
                        [
                          -6.753302,
                          53.900348
                        ],
                        [
                          -6.779095,
                          53.873842
                        ],
                        [
                          -6.942976,
                          53.874982
                        ],
                        [
                          -6.95573,
                          53.766893
                        ],
                        [
                          -7.275153,
                          53.783851
                        ],
                        [
                          -7.28235,
                          53.795394
                        ],
                        [
                          -7.394715,
                          53.781713
                        ],
                        [
                          -7.47181,
                          53.835936
                        ],
                        [
                          -7.577762,
                          53.872702
                        ],
                        [
                          -7.606476,
                          53.937257
                        ],
                        [
                          -7.604552,
                          54.00516
                        ],
                        [
                          -7.760239,
                          54.105127
                        ],
                        [
                          -7.853223,
                          54.098144
                        ],
                        [
                          -8.03456,
                          54.238796
                        ],
                        [
                          -7.952976,
                          54.306628
                        ],
                        [
                          -7.87809,
                          54.289172
                        ],
                        [
                          -7.820589,
                          54.19918
                        ],
                        [
                          -7.696967,
                          54.202529
                        ],
                        [
                          -7.554248,
                          54.127999
                        ],
                        [
                          -7.414737,
                          54.1508
                        ],
                        [
                          -7.311848,
                          54.114105
                        ]
                      ]
                    ]
                  },
                  "type": "Feature",
                  "id": "Cavan",
                  "properties": {
                    "style": {
                      "color": "black",
                      "fillColor": "#feedd2ff",
                      "weight": 0.9
                    },
                    "id": "Cavan"
                  }
                },
                {
                  "geometry": {
                    "type": "Polygon",
                    "coordinates": [
                      [
                        [
                          -9.01442,
                          53.143721
                        ],
                        [
                          -8.995325,
                          53.094486
                        ],
                        [
                          -8.898707,
                          53.061852
                        ],
                        [
                          -8.825673,
                          52.973357
                        ],
                        [
                          -8.610278,
                          53.039336
                        ],
                        [
                          -8.448392,
                          52.981622
                        ],
                        [
                          -8.301399,
                          53.004138
                        ],
                        [
                          -8.315365,
                          52.923338
                        ],
                        [
                          -8.415403,
                          52.895906
                        ],
                        [
                          -8.486797,
                          52.717419
                        ],
                        [
                          -8.542089,
                          52.683432
                        ],
                        [
                          -8.736394,
                          52.676235
                        ],
                        [
                          -8.86251,
                          52.697896
                        ],
                        [
                          -8.966396,
                          52.683717
                        ],
                        [
                          -8.941957,
                          52.735161
                        ],
                        [
                          -9.043064,
                          52.749839
                        ],
                        [
                          -9.077478,
                          52.671817
                        ],
                        [
                          -9.162482,
                          52.61845
                        ],
                        [
                          -9.417494,
                          52.602062
                        ],
                        [
                          -9.546959,
                          52.639326
                        ],
                        [
                          -9.700864,
                          52.612108
                        ],
                        [
                          -9.696375,
                          52.582325
                        ],
                        [
                          -9.939203,
                          52.55817
                        ],
                        [
                          -9.650845,
                          52.677945
                        ],
                        [
                          -9.613081,
                          52.742927
                        ],
                        [
                          -9.4958,
                          52.750694
                        ],
                        [
                          -9.446422,
                          52.877095
                        ],
                        [
                          -9.347524,
                          52.929893
                        ],
                        [
                          -9.47642,
                          52.941507
                        ],
                        [
                          -9.392484,
                          53.007914
                        ],
                        [
                          -9.282471,
                          53.145146
                        ],
                        [
                          -9.152507,
                          53.119566
                        ],
                        [
                          -9.127497,
                          53.157615
                        ],
                        [
                          -9.01442,
                          53.143721
                        ]
                      ]
                    ]
                  },
                  "type": "Feature",
                  "id": "Clare",
                  "properties": {
                    "style": {
                      "color": "black",
                      "fillColor": "#fee7c6ff",
                      "weight": 0.9
                    },
                    "id": "Clare"
                  }
                },
                {
                  "geometry": {
                    "type": "Polygon",
                    "coordinates": [
                      [
                        [
                          -8.16032,
                          52.302731
                        ],
                        [
                          -8.088569,
                          52.215518
                        ],
                        [
                          -8.137519,
                          52.159086
                        ],
                        [
                          -7.927468,
                          51.990147
                        ],
                        [
                          -7.849731,
                          51.978747
                        ],
                        [
                          -7.904168,
                          51.911271
                        ],
                        [
                          -7.865834,
                          51.880134
                        ],
                        [
                          -7.997508,
                          51.860682
                        ],
                        [
                          -8.001356,
                          51.825127
                        ],
                        [
                          -8.170295,
                          51.7843
                        ],
                        [
                          -8.264704,
                          51.815152
                        ],
                        [
                          -8.202501,
                          51.874006
                        ],
                        [
                          -8.319711,
                          51.84237
                        ],
                        [
                          -8.273041,
                          51.798194
                        ],
                        [
                          -8.339163,
                          51.716254
                        ],
                        [
                          -8.563037,
                          51.639302
                        ],
                        [
                          -8.658587,
                          51.634029
                        ],
                        [
                          -8.706397,
                          51.570686
                        ],
                        [
                          -8.867498,
                          51.576243
                        ],
                        [
                          -9.107476,
                          51.53734
                        ],
                        [
                          -9.227536,
                          51.479839
                        ],
                        [
                          -9.535274,
                          51.529003
                        ],
                        [
                          -9.644717,
                          51.520382
                        ],
                        [
                          -9.773613,
                          51.446564
                        ],
                        [
                          -9.838025,
                          51.483188
                        ],
                        [
                          -9.653624,
                          51.542897
                        ],
                        [
                          -9.539193,
                          51.612083
                        ],
                        [
                          -9.85085,
                          51.542897
                        ],
                        [
                          -9.444142,
                          51.692384
                        ],
                        [
                          -9.451909,
                          51.731502
                        ],
                        [
                          -9.63973,
                          51.675426
                        ],
                        [
                          -9.906925,
                          51.652056
                        ],
                        [
                          -9.935284,
                          51.614292
                        ],
                        [
                          -10.166355,
                          51.580447
                        ],
                        [
                          -10.055843,
                          51.632105
                        ],
                        [
                          -10.097525,
                          51.671223
                        ],
                        [
                          -9.974188,
                          51.685402
                        ],
                        [
                          -10.004755,
                          51.719318
                        ],
                        [
                          -9.908279,
                          51.7496
                        ],
                        [
                          -9.856336,
                          51.719175
                        ],
                        [
                          -9.727869,
                          51.792636
                        ],
                        [
                          -9.595054,
                          51.796698
                        ],
                        [
                          -9.330922,
                          51.890181
                        ],
                        [
                          -9.305343,
                          51.970553
                        ],
                        [
                          -9.153718,
                          52.007676
                        ],
                        [
                          -9.229317,
                          52.18089
                        ],
                        [
                          -9.294513,
                          52.237036
                        ],
                        [
                          -9.234589,
                          52.308431
                        ],
                        [
                          -9.132414,
                          52.3385
                        ],
                        [
                          -8.961836,
                          52.321185
                        ],
                        [
                          -8.842702,
                          52.37833
                        ],
                        [
                          -8.640631,
                          52.36016
                        ],
                        [
                          -8.519502,
                          52.284704
                        ],
                        [
                          -8.341799,
                          52.321969
                        ],
                        [
                          -8.16032,
                          52.302731
                        ]
                      ]
                    ]
                  },
                  "type": "Feature",
                  "id": "Cork",
                  "properties": {
                    "style": {
                      "color": "black",
                      "fillColor": "#fdc089ff",
                      "weight": 0.9
                    },
                    "id": "Cork"
                  }
                },
                {
                  "geometry": {
                    "type": "MultiPolygon",
                    "coordinates": [
                      [
                        [
                          [
                            -8.541947,
                            55.023711
                          ],
                          [
                            -8.48637,
                            54.973478
                          ],
                          [
                            -8.569735,
                            54.975687
                          ],
                          [
                            -8.541947,
                            55.023711
                          ]
                        ]
                      ],
                      [
                        [
                          [
                            -8.161674,
                            54.457683
                          ],
                          [
                            -8.282019,
                            54.479843
                          ],
                          [
                            -8.223093,
                            54.572114
                          ],
                          [
                            -8.109161,
                            54.612657
                          ],
                          [
                            -8.115787,
                            54.649922
                          ],
                          [
                            -8.29919,
                            54.600971
                          ],
                          [
                            -8.288075,
                            54.646502
                          ],
                          [
                            -8.46307,
                            54.605175
                          ],
                          [
                            -8.586978,
                            54.605674
                          ],
                          [
                            -8.793609,
                            54.659042
                          ],
                          [
                            -8.807504,
                            54.697661
                          ],
                          [
                            -8.6531,
                            54.775682
                          ],
                          [
                            -8.434142,
                            54.755446
                          ],
                          [
                            -8.568595,
                            54.825701
                          ],
                          [
                            -8.384194,
                            54.882631
                          ],
                          [
                            -8.460292,
                            54.918756
                          ],
                          [
                            -8.462999,
                            55.002691
                          ],
                          [
                            -8.348639,
                            55.03903
                          ],
                          [
                            -8.286365,
                            55.159945
                          ],
                          [
                            -8.15975,
                            55.14655
                          ],
                          [
                            -8.026366,
                            55.173483
                          ],
                          [
                            -7.981405,
                            55.227635
                          ],
                          [
                            -7.873601,
                            55.202055
                          ],
                          [
                            -7.631913,
                            55.278224
                          ],
                          [
                            -7.61752,
                            55.191225
                          ],
                          [
                            -7.517482,
                            55.122609
                          ],
                          [
                            -7.633623,
                            55.057698
                          ],
                          [
                            -7.559165,
                            55.034327
                          ],
                          [
                            -7.680864,
                            54.951817
                          ],
                          [
                            -7.472522,
                            55.046511
                          ],
                          [
                            -7.526959,
                            55.059052
                          ],
                          [
                            -7.462476,
                            55.137358
                          ],
                          [
                            -7.555816,
                            55.197067
                          ],
                          [
                            -7.528028,
                            55.28599
                          ],
                          [
                            -7.428631,
                            55.279577
                          ],
                          [
                            -7.348116,
                            55.357884
                          ],
                          [
                            -7.19471,
                            55.348193
                          ],
                          [
                            -7.153597,
                            55.294825
                          ],
                          [
                            -6.920745,
                            55.237111
                          ],
                          [
                            -7.158585,
                            55.148758
                          ],
                          [
                            -7.273871,
                            55.056772
                          ],
                          [
                            -7.353103,
                            55.048649
                          ],
                          [
                            -7.443024,
                            54.934432
                          ],
                          [
                            -7.457987,
                            54.857907
                          ],
                          [
                            -7.552467,
                            54.791714
                          ],
                          [
                            -7.537362,
                            54.744758
                          ],
                          [
                            -7.648658,
                            54.749532
                          ],
                          [
                            -7.750619,
                            54.705498
                          ],
                          [
                            -7.834412,
                            54.738559
                          ],
                          [
                            -7.925259,
                            54.702292
                          ],
                          [
                            -7.855289,
                            54.634674
                          ],
                          [
                            -7.710647,
                            54.630327
                          ],
                          [
                            -7.829211,
                            54.544682
                          ],
                          [
                            -8.00328,
                            54.546107
                          ],
                          [
                            -8.052729,
                            54.489675
                          ],
                          [
                            -8.161674,
                            54.457683
                          ]
                        ]
                      ]
                    ]
                  },
                  "type": "Feature",
                  "id": "Donegal",
                  "properties": {
                    "style": {
                      "color": "black",
                      "fillColor": "#fee4beff",
                      "weight": 0.9
                    },
                    "id": "Donegal"
                  }
                },
                {
                  "geometry": {
                    "type": "Polygon",
                    "coordinates": [
                      [
                        [
                          -6.105263,
                          53.219391
                        ],
                        [
                          -6.347948,
                          53.200936
                        ],
                        [
                          -6.464161,
                          53.228939
                        ],
                        [
                          -6.535199,
                          53.255302
                        ],
                        [
                          -6.495512,
                          53.384126
                        ],
                        [
                          -6.453473,
                          53.376858
                        ],
                        [
                          -6.334767,
                          53.452528
                        ],
                        [
                          -6.320516,
                          53.495493
                        ],
                        [
                          -6.408085,
                          53.563468
                        ],
                        [
                          -6.291089,
                          53.579998
                        ],
                        [
                          -6.213638,
                          53.635504
                        ],
                        [
                          -6.098637,
                          53.585128
                        ],
                        [
                          -6.075836,
                          53.519006
                        ],
                        [
                          -6.121936,
                          53.388757
                        ],
                        [
                          -6.229171,
                          53.36047
                        ],
                        [
                          -6.100276,
                          53.282877
                        ],
                        [
                          -6.105263,
                          53.219391
                        ]
                      ]
                    ]
                  },
                  "type": "Feature",
                  "id": "Dublin",
                  "properties": {
                    "style": {
                      "color": "black",
                      "fillColor": "#b30000ff",
                      "weight": 0.9
                    },
                    "id": "Dublin"
                  }
                },
                {
                  "geometry": {
                    "type": "MultiPolygon",
                    "coordinates": [
                      [
                        [
                          [
                            -9.780809,
                            53.152057
                          ],
                          [
                            -9.654194,
                            53.131822
                          ],
                          [
                            -9.654194,
                            53.0885
                          ],
                          [
                            -9.830258,
                            53.138163
                          ],
                          [
                            -9.780809,
                            53.152057
                          ]
                        ]
                      ],
                      [
                        [
                          [
                            -9.630823,
                            53.320711
                          ],
                          [
                            -9.648066,
                            53.227371
                          ],
                          [
                            -9.744185,
                            53.235138
                          ],
                          [
                            -9.630823,
                            53.320711
                          ]
                        ]
                      ],
                      [
                        [
                          [
                            -8.020095,
                            53.261501
                          ],
                          [
                            -7.956538,
                            53.216256
                          ],
                          [
                            -8.068404,
                            53.175642
                          ],
                          [
                            -8.301399,
                            53.004138
                          ],
                          [
                            -8.448392,
                            52.981622
                          ],
                          [
                            -8.610278,
                            53.039336
                          ],
                          [
                            -8.825673,
                            52.973357
                          ],
                          [
                            -8.898707,
                            53.061852
                          ],
                          [
                            -8.995325,
                            53.094486
                          ],
                          [
                            -9.01442,
                            53.143721
                          ],
                          [
                            -8.903053,
                            53.221528
                          ],
                          [
                            -9.05197,
                            53.220175
                          ],
                          [
                            -8.936399,
                            53.271547
                          ],
                          [
                            -9.525869,
                            53.220958
                          ],
                          [
                            -9.622487,
                            53.326269
                          ],
                          [
                            -9.550807,
                            53.342372
                          ],
                          [
                            -9.649135,
                            53.387119
                          ],
                          [
                            -9.774753,
                            53.291498
                          ],
                          [
                            -9.908065,
                            53.328763
                          ],
                          [
                            -10.071946,
                            53.420678
                          ],
                          [
                            -10.198062,
                            53.405145
                          ],
                          [
                            -10.093036,
                            53.467063
                          ],
                          [
                            -10.1308,
                            53.574868
                          ],
                          [
                            -10.01416,
                            53.567885
                          ],
                          [
                            -10.056413,
                            53.611492
                          ],
                          [
                            -9.669727,
                            53.614912
                          ],
                          [
                            -9.610587,
                            53.632725
                          ],
                          [
                            -9.409727,
                            53.541095
                          ],
                          [
                            -9.265798,
                            53.544301
                          ],
                          [
                            -9.203239,
                            53.487442
                          ],
                          [
                            -9.117023,
                            53.4868
                          ],
                          [
                            -8.983425,
                            53.621895
                          ],
                          [
                            -8.814985,
                            53.663292
                          ],
                          [
                            -8.664358,
                            53.670916
                          ],
                          [
                            -8.611489,
                            53.709535
                          ],
                          [
                            -8.438631,
                            53.68766
                          ],
                          [
                            -8.263208,
                            53.516085
                          ],
                          [
                            -8.242046,
                            53.36104
                          ],
                          [
                            -8.152838,
                            53.328478
                          ],
                          [
                            -8.129753,
                            53.262427
                          ],
                          [
                            -8.020095,
                            53.261501
                          ]
                        ]
                      ]
                    ]
                  },
                  "type": "Feature",
                  "id": "Galway",
                  "properties": {
                    "style": {
                      "color": "black",
                      "fillColor": "#fedbacff",
                      "weight": 0.9
                    },
                    "id": "Galway"
                  }
                },
                {
                  "geometry": {
                    "type": "MultiPolygon",
                    "coordinates": [
                      [
                        [
                          [
                            -10.349188,
                            51.935996
                          ],
                          [
                            -10.286415,
                            51.921817
                          ],
                          [
                            -10.430843,
                            51.880134
                          ],
                          [
                            -10.349188,
                            51.935996
                          ]
                        ]
                      ],
                      [
                        [
                          [
                            -9.328215,
                            52.572634
                          ],
                          [
                            -9.303134,
                            52.51549
                          ],
                          [
                            -9.339544,
                            52.373057
                          ],
                          [
                            -9.234589,
                            52.308431
                          ],
                          [
                            -9.294513,
                            52.237036
                          ],
                          [
                            -9.229317,
                            52.18089
                          ],
                          [
                            -9.153718,
                            52.007676
                          ],
                          [
                            -9.305343,
                            51.970553
                          ],
                          [
                            -9.330922,
                            51.890181
                          ],
                          [
                            -9.595054,
                            51.796698
                          ],
                          [
                            -9.727869,
                            51.792636
                          ],
                          [
                            -9.856336,
                            51.719175
                          ],
                          [
                            -9.908279,
                            51.7496
                          ],
                          [
                            -9.863034,
                            51.748175
                          ],
                          [
                            -9.745824,
                            51.849282
                          ],
                          [
                            -10.125812,
                            51.736775
                          ],
                          [
                            -10.228059,
                            51.781806
                          ],
                          [
                            -10.208607,
                            51.844009
                          ],
                          [
                            -10.34363,
                            51.782946
                          ],
                          [
                            -10.335864,
                            51.845434
                          ],
                          [
                            -10.408612,
                            51.878495
                          ],
                          [
                            -10.252499,
                            51.904004
                          ],
                          [
                            -10.32197,
                            51.952669
                          ],
                          [
                            -10.258056,
                            51.991786
                          ],
                          [
                            -9.916972,
                            52.066815
                          ],
                          [
                            -9.889184,
                            52.111276
                          ],
                          [
                            -9.753021,
                            52.156806
                          ],
                          [
                            -9.985303,
                            52.143197
                          ],
                          [
                            -10.193074,
                            52.106787
                          ],
                          [
                            -10.287484,
                            52.140418
                          ],
                          [
                            -10.452504,
                            52.096527
                          ],
                          [
                            -10.475803,
                            52.176828
                          ],
                          [
                            -10.361372,
                            52.235398
                          ],
                          [
                            -10.17804,
                            52.291544
                          ],
                          [
                            -10.181959,
                            52.231265
                          ],
                          [
                            -10.026415,
                            52.271522
                          ],
                          [
                            -9.955804,
                            52.232619
                          ],
                          [
                            -9.736419,
                            52.256773
                          ],
                          [
                            -9.876928,
                            52.274016
                          ],
                          [
                            -9.833607,
                            52.385669
                          ],
                          [
                            -9.94362,
                            52.422933
                          ],
                          [
                            -9.828049,
                            52.434334
                          ],
                          [
                            -9.687469,
                            52.482928
                          ],
                          [
                            -9.620278,
                            52.581541
                          ],
                          [
                            -9.364197,
                            52.591231
                          ],
                          [
                            -9.328215,
                            52.572634
                          ]
                        ]
                      ]
                    ]
                  },
                  "type": "Feature",
                  "id": "Kerry",
                  "properties": {
                    "style": {
                      "color": "black",
                      "fillColor": "#fee5c1ff",
                      "weight": 0.9
                    },
                    "id": "Kerry"
                  }
                },
                {
                  "geometry": {
                    "type": "Polygon",
                    "coordinates": [
                      [
                        [
                          -6.495512,
                          53.384126
                        ],
                        [
                          -6.535199,
                          53.255302
                        ],
                        [
                          -6.464161,
                          53.228939
                        ],
                        [
                          -6.592771,
                          53.092704
                        ],
                        [
                          -6.745464,
                          53.017747
                        ],
                        [
                          -6.712332,
                          52.924335
                        ],
                        [
                          -6.735489,
                          52.884007
                        ],
                        [
                          -6.915828,
                          52.856717
                        ],
                        [
                          -6.957939,
                          52.967443
                        ],
                        [
                          -7.032896,
                          52.971932
                        ],
                        [
                          -7.030687,
                          53.080235
                        ],
                        [
                          -7.097237,
                          53.164598
                        ],
                        [
                          -6.997626,
                          53.317006
                        ],
                        [
                          -7.13614,
                          53.409563
                        ],
                        [
                          -7.032112,
                          53.514019
                        ],
                        [
                          -6.840586,
                          53.390539
                        ],
                        [
                          -6.713757,
                          53.426378
                        ],
                        [
                          -6.495512,
                          53.384126
                        ]
                      ]
                    ]
                  },
                  "type": "Feature",
                  "id": "Kildare",
                  "properties": {
                    "style": {
                      "color": "black",
                      "fillColor": "#fedaaaff",
                      "weight": 0.9
                    },
                    "id": "Kildare"
                  }
                },
                {
                  "geometry": {
                    "type": "Polygon",
                    "coordinates": [
                      [
                        [
                          -7.072441,
                          52.797934
                        ],
                        [
                          -7.090468,
                          52.732311
                        ],
                        [
                          -6.952951,
                          52.705377
                        ],
                        [
                          -6.975609,
                          52.653791
                        ],
                        [
                          -6.914688,
                          52.590519
                        ],
                        [
                          -6.916185,
                          52.446304
                        ],
                        [
                          -6.975182,
                          52.291544
                        ],
                        [
                          -7.191717,
                          52.251857
                        ],
                        [
                          -7.338853,
                          52.342561
                        ],
                        [
                          -7.40013,
                          52.455496
                        ],
                        [
                          -7.386663,
                          52.502451
                        ],
                        [
                          -7.454139,
                          52.640253
                        ],
                        [
                          -7.64937,
                          52.790809
                        ],
                        [
                          -7.559236,
                          52.834771
                        ],
                        [
                          -7.414737,
                          52.792305
                        ],
                        [
                          -7.284772,
                          52.865624
                        ],
                        [
                          -7.181172,
                          52.893412
                        ],
                        [
                          -7.065957,
                          52.822872
                        ],
                        [
                          -7.072441,
                          52.797934
                        ]
                      ]
                    ]
                  },
                  "type": "Feature",
                  "id": "Kilkenny",
                  "properties": {
                    "style": {
                      "color": "black",
                      "fillColor": "#feeaccff",
                      "weight": 0.9
                    },
                    "id": "Kilkenny"
                  }
                },
                {
                  "geometry": {
                    "type": "Polygon",
                    "coordinates": [
                      [
                        [
                          -7.097237,
                          53.164598
                        ],
                        [
                          -7.030687,
                          53.080235
                        ],
                        [
                          -7.032896,
                          52.971932
                        ],
                        [
                          -6.957939,
                          52.967443
                        ],
                        [
                          -6.915828,
                          52.856717
                        ],
                        [
                          -7.065957,
                          52.822872
                        ],
                        [
                          -7.181172,
                          52.893412
                        ],
                        [
                          -7.284772,
                          52.865624
                        ],
                        [
                          -7.414737,
                          52.792305
                        ],
                        [
                          -7.559236,
                          52.834771
                        ],
                        [
                          -7.64937,
                          52.790809
                        ],
                        [
                          -7.686564,
                          52.851444
                        ],
                        [
                          -7.656923,
                          52.93937
                        ],
                        [
                          -7.692264,
                          52.982335
                        ],
                        [
                          -7.555246,
                          53.100115
                        ],
                        [
                          -7.617948,
                          53.14479
                        ],
                        [
                          -7.541708,
                          53.181271
                        ],
                        [
                          -7.354813,
                          53.202647
                        ],
                        [
                          -7.265606,
                          53.14023
                        ],
                        [
                          -7.097237,
                          53.164598
                        ]
                      ]
                    ]
                  },
                  "type": "Feature",
                  "id": "Laois",
                  "properties": {
                    "style": {
                      "color": "black",
                      "fillColor": "#feecd0ff",
                      "weight": 0.9
                    },
                    "id": "Laois"
                  }
                },
                {
                  "geometry": {
                    "type": "Polygon",
                    "coordinates": [
                      [
                        [
                          -8.282019,
                          54.479843
                        ],
                        [
                          -8.161674,
                          54.457683
                        ],
                        [
                          -7.952976,
                          54.306628
                        ],
                        [
                          -8.03456,
                          54.238796
                        ],
                        [
                          -7.853223,
                          54.098144
                        ],
                        [
                          -7.760239,
                          54.105127
                        ],
                        [
                          -7.604552,
                          54.00516
                        ],
                        [
                          -7.606476,
                          53.937257
                        ],
                        [
                          -7.663122,
                          53.937114
                        ],
                        [
                          -7.82237,
                          53.819477
                        ],
                        [
                          -7.899109,
                          53.815558
                        ],
                        [
                          -8.000359,
                          53.926712
                        ],
                        [
                          -8.100895,
                          53.953859
                        ],
                        [
                          -8.040972,
                          54.077125
                        ],
                        [
                          -8.133671,
                          54.101422
                        ],
                        [
                          -8.170794,
                          54.102633
                        ],
                        [
                          -8.333463,
                          54.1855
                        ],
                        [
                          -8.310591,
                          54.272855
                        ],
                        [
                          -8.377782,
                          54.348453
                        ],
                        [
                          -8.373863,
                          54.468228
                        ],
                        [
                          -8.282019,
                          54.479843
                        ]
                      ]
                    ]
                  },
                  "type": "Feature",
                  "id": "Leitrim",
                  "properties": {
                    "style": {
                      "color": "black",
                      "fillColor": "#fef0d9ff",
                      "weight": 0.9
                    },
                    "id": "Leitrim"
                  }
                },
                {
                  "geometry": {
                    "type": "Polygon",
                    "coordinates": [
                      [
                        [
                          -8.16032,
                          52.302731
                        ],
                        [
                          -8.341799,
                          52.321969
                        ],
                        [
                          -8.519502,
                          52.284704
                        ],
                        [
                          -8.640631,
                          52.36016
                        ],
                        [
                          -8.842702,
                          52.37833
                        ],
                        [
                          -8.961836,
                          52.321185
                        ],
                        [
                          -9.132414,
                          52.3385
                        ],
                        [
                          -9.234589,
                          52.308431
                        ],
                        [
                          -9.339544,
                          52.373057
                        ],
                        [
                          -9.303134,
                          52.51549
                        ],
                        [
                          -9.328215,
                          52.572634
                        ],
                        [
                          -8.987487,
                          52.619305
                        ],
                        [
                          -8.95806,
                          52.660702
                        ],
                        [
                          -8.638066,
                          52.660702
                        ],
                        [
                          -8.736394,
                          52.676235
                        ],
                        [
                          -8.542089,
                          52.683432
                        ],
                        [
                          -8.486797,
                          52.717419
                        ],
                        [
                          -8.358258,
                          52.682648
                        ],
                        [
                          -8.25708,
                          52.697682
                        ],
                        [
                          -8.180698,
                          52.666545
                        ],
                        [
                          -8.197941,
                          52.521333
                        ],
                        [
                          -8.399157,
                          52.468464
                        ],
                        [
                          -8.388968,
                          52.438751
                        ],
                        [
                          -8.230361,
                          52.404265
                        ],
                        [
                          -8.16032,
                          52.302731
                        ]
                      ]
                    ]
                  },
                  "type": "Feature",
                  "id": "Limerick",
                  "properties": {
                    "style": {
                      "color": "black",
                      "fillColor": "#fedeb3ff",
                      "weight": 0.9
                    },
                    "id": "Limerick"
                  }
                },
                {
                  "geometry": {
                    "type": "Polygon",
                    "coordinates": [
                      [
                        [
                          -7.47181,
                          53.835936
                        ],
                        [
                          -7.394715,
                          53.781713
                        ],
                        [
                          -7.390725,
                          53.735827
                        ],
                        [
                          -7.591442,
                          53.647545
                        ],
                        [
                          -7.658348,
                          53.531119
                        ],
                        [
                          -7.846454,
                          53.538601
                        ],
                        [
                          -7.95262,
                          53.51238
                        ],
                        [
                          -8.025938,
                          53.607359
                        ],
                        [
                          -7.978912,
                          53.694999
                        ],
                        [
                          -7.887424,
                          53.772237
                        ],
                        [
                          -7.899109,
                          53.815558
                        ],
                        [
                          -7.82237,
                          53.819477
                        ],
                        [
                          -7.663122,
                          53.937114
                        ],
                        [
                          -7.606476,
                          53.937257
                        ],
                        [
                          -7.577762,
                          53.872702
                        ],
                        [
                          -7.47181,
                          53.835936
                        ]
                      ]
                    ]
                  },
                  "type": "Feature",
                  "id": "Longford",
                  "properties": {
                    "style": {
                      "color": "black",
                      "fillColor": "#feefd7ff",
                      "weight": 0.9
                    },
                    "id": "Longford"
                  }
                },
                {
                  "geometry": {
                    "type": "Polygon",
                    "coordinates": [
                      [
                        [
                          -6.238576,
                          53.778721
                        ],
                        [
                          -6.339042,
                          53.722788
                        ],
                        [
                          -6.481475,
                          53.722788
                        ],
                        [
                          -6.561562,
                          53.771453
                        ],
                        [
                          -6.616427,
                          53.861516
                        ],
                        [
                          -6.687038,
                          53.875481
                        ],
                        [
                          -6.753302,
                          53.900348
                        ],
                        [
                          -6.753231,
                          53.901916
                        ],
                        [
                          -6.679699,
                          53.909469
                        ],
                        [
                          -6.584434,
                          54.051902
                        ],
                        [
                          -6.470146,
                          54.078835
                        ],
                        [
                          -6.374739,
                          54.066366
                        ],
                        [
                          -6.27976,
                          54.109901
                        ],
                        [
                          -6.100846,
                          53.999603
                        ],
                        [
                          -6.164688,
                          53.976802
                        ],
                        [
                          -6.352508,
                          54.011502
                        ],
                        [
                          -6.377518,
                          53.955711
                        ],
                        [
                          -6.333627,
                          53.877049
                        ],
                        [
                          -6.238576,
                          53.861801
                        ],
                        [
                          -6.238576,
                          53.778721
                        ]
                      ]
                    ]
                  },
                  "type": "Feature",
                  "id": "Louth",
                  "properties": {
                    "style": {
                      "color": "black",
                      "fillColor": "#fee6c3ff",
                      "weight": 0.9
                    },
                    "id": "Louth"
                  }
                },
                {
                  "geometry": {
                    "type": "Polygon",
                    "coordinates": [
                      [
                        [
                          -9.138043,
                          54.130707
                        ],
                        [
                          -8.963404,
                          54.145527
                        ],
                        [
                          -9.027317,
                          54.030241
                        ],
                        [
                          -8.913598,
                          54.017701
                        ],
                        [
                          -8.835078,
                          53.972455
                        ],
                        [
                          -8.661294,
                          54.025681
                        ],
                        [
                          -8.590398,
                          53.968109
                        ],
                        [
                          -8.682599,
                          53.958704
                        ],
                        [
                          -8.608211,
                          53.885884
                        ],
                        [
                          -8.690223,
                          53.874484
                        ],
                        [
                          -8.696279,
                          53.722716
                        ],
                        [
                          -8.814985,
                          53.663292
                        ],
                        [
                          -8.983425,
                          53.621895
                        ],
                        [
                          -9.117023,
                          53.4868
                        ],
                        [
                          -9.203239,
                          53.487442
                        ],
                        [
                          -9.265798,
                          53.544301
                        ],
                        [
                          -9.409727,
                          53.541095
                        ],
                        [
                          -9.610587,
                          53.632725
                        ],
                        [
                          -9.669727,
                          53.614912
                        ],
                        [
                          -9.774183,
                          53.600661
                        ],
                        [
                          -9.915832,
                          53.656238
                        ],
                        [
                          -9.912483,
                          53.752286
                        ],
                        [
                          -9.651272,
                          53.800453
                        ],
                        [
                          -9.554084,
                          53.889874
                        ],
                        [
                          -9.764706,
                          53.900134
                        ],
                        [
                          -9.905857,
                          53.861231
                        ],
                        [
                          -10.066388,
                          53.971814
                        ],
                        [
                          -10.259196,
                          53.973453
                        ],
                        [
                          -10.189155,
                          54.015706
                        ],
                        [
                          -10.100803,
                          54.000671
                        ],
                        [
                          -9.974188,
                          54.030669
                        ],
                        [
                          -9.966421,
                          53.951009
                        ],
                        [
                          -9.838025,
                          53.960414
                        ],
                        [
                          -9.993639,
                          54.102633
                        ],
                        [
                          -9.899729,
                          54.117953
                        ],
                        [
                          -10.012521,
                          54.226541
                        ],
                        [
                          -10.010312,
                          54.181296
                        ],
                        [
                          -10.129161,
                          54.096007
                        ],
                        [
                          -10.055843,
                          54.218204
                        ],
                        [
                          -10.109709,
                          54.238511
                        ],
                        [
                          -9.995777,
                          54.309336
                        ],
                        [
                          -9.880277,
                          54.257607
                        ],
                        [
                          -9.805819,
                          54.344606
                        ],
                        [
                          -9.382509,
                          54.294302
                        ],
                        [
                          -9.341967,
                          54.327363
                        ],
                        [
                          -9.211931,
                          54.285894
                        ],
                        [
                          -9.224187,
                          54.217136
                        ],
                        [
                          -9.159703,
                          54.201816
                        ],
                        [
                          -9.138043,
                          54.130707
                        ]
                      ]
                    ]
                  },
                  "type": "Feature",
                  "id": "Mayo",
                  "properties": {
                    "style": {
                      "color": "black",
                      "fillColor": "#fee6c4ff",
                      "weight": 0.9
                    },
                    "id": "Mayo"
                  }
                },
                {
                  "geometry": {
                    "type": "Polygon",
                    "coordinates": [
                      [
                        [
                          -6.687038,
                          53.875481
                        ],
                        [
                          -6.616427,
                          53.861516
                        ],
                        [
                          -6.561562,
                          53.771453
                        ],
                        [
                          -6.481475,
                          53.722788
                        ],
                        [
                          -6.339042,
                          53.722788
                        ],
                        [
                          -6.238576,
                          53.778721
                        ],
                        [
                          -6.213638,
                          53.635504
                        ],
                        [
                          -6.291089,
                          53.579998
                        ],
                        [
                          -6.408085,
                          53.563468
                        ],
                        [
                          -6.320516,
                          53.495493
                        ],
                        [
                          -6.334767,
                          53.452528
                        ],
                        [
                          -6.453473,
                          53.376858
                        ],
                        [
                          -6.495512,
                          53.384126
                        ],
                        [
                          -6.713757,
                          53.426378
                        ],
                        [
                          -6.840586,
                          53.390539
                        ],
                        [
                          -7.032112,
                          53.514019
                        ],
                        [
                          -6.962926,
                          53.639494
                        ],
                        [
                          -7.250928,
                          53.711387
                        ],
                        [
                          -7.275153,
                          53.783851
                        ],
                        [
                          -6.95573,
                          53.766893
                        ],
                        [
                          -6.942976,
                          53.874982
                        ],
                        [
                          -6.779095,
                          53.873842
                        ],
                        [
                          -6.753302,
                          53.900348
                        ],
                        [
                          -6.687038,
                          53.875481
                        ]
                      ]
                    ]
                  },
                  "type": "Feature",
                  "id": "Meath",
                  "properties": {
                    "style": {
                      "color": "black",
                      "fillColor": "#fee2bbff",
                      "weight": 0.9
                    },
                    "id": "Meath"
                  }
                },
                {
                  "geometry": {
                    "type": "Polygon",
                    "coordinates": [
                      [
                        [
                          -6.584434,
                          54.051902
                        ],
                        [
                          -6.679699,
                          53.909469
                        ],
                        [
                          -6.753231,
                          53.901916
                        ],
                        [
                          -7.03596,
                          54.08653
                        ],
                        [
                          -7.188226,
                          54.079548
                        ],
                        [
                          -7.311848,
                          54.114105
                        ],
                        [
                          -7.237746,
                          54.203455
                        ],
                        [
                          -7.142268,
                          54.227325
                        ],
                        [
                          -7.20212,
                          54.297722
                        ],
                        [
                          -7.025129,
                          54.416143
                        ],
                        [
                          -6.876141,
                          54.345247
                        ],
                        [
                          -6.795555,
                          54.211649
                        ],
                        [
                          -6.636377,
                          54.172745
                        ],
                        [
                          -6.670293,
                          54.07057
                        ],
                        [
                          -6.584434,
                          54.051902
                        ]
                      ]
                    ]
                  },
                  "type": "Feature",
                  "id": "Monaghan",
                  "properties": {
                    "style": {
                      "color": "black",
                      "fillColor": "#feeed3ff",
                      "weight": 0.9
                    },
                    "id": "Monaghan"
                  }
                },
                {
                  "geometry": {
                    "type": "Polygon",
                    "coordinates": [
                      [
                        [
                          -6.997626,
                          53.317006
                        ],
                        [
                          -7.097237,
                          53.164598
                        ],
                        [
                          -7.265606,
                          53.14023
                        ],
                        [
                          -7.354813,
                          53.202647
                        ],
                        [
                          -7.541708,
                          53.181271
                        ],
                        [
                          -7.617948,
                          53.14479
                        ],
                        [
                          -7.555246,
                          53.100115
                        ],
                        [
                          -7.692264,
                          52.982335
                        ],
                        [
                          -7.822513,
                          52.956256
                        ],
                        [
                          -7.922337,
                          52.86256
                        ],
                        [
                          -8.013326,
                          52.909729
                        ],
                        [
                          -7.956681,
                          52.952907
                        ],
                        [
                          -7.904738,
                          53.092491
                        ],
                        [
                          -8.068404,
                          53.175642
                        ],
                        [
                          -7.956538,
                          53.216256
                        ],
                        [
                          -8.020095,
                          53.261501
                        ],
                        [
                          -8.021734,
                          53.303326
                        ],
                        [
                          -7.91564,
                          53.353416
                        ],
                        [
                          -7.767649,
                          53.329048
                        ],
                        [
                          -7.586953,
                          53.38377
                        ],
                        [
                          -7.535224,
                          53.333751
                        ],
                        [
                          -7.372769,
                          53.317719
                        ],
                        [
                          -7.337927,
                          53.350709
                        ],
                        [
                          -7.13614,
                          53.409563
                        ],
                        [
                          -6.997626,
                          53.317006
                        ]
                      ]
                    ]
                  },
                  "type": "Feature",
                  "id": "Offaly",
                  "properties": {
                    "style": {
                      "color": "black",
                      "fillColor": "#feecd0ff",
                      "weight": 0.9
                    },
                    "id": "Offaly"
                  }
                },
                {
                  "geometry": {
                    "type": "Polygon",
                    "coordinates": [
                      [
                        [
                          -8.133671,
                          54.101422
                        ],
                        [
                          -8.040972,
                          54.077125
                        ],
                        [
                          -8.100895,
                          53.953859
                        ],
                        [
                          -8.000359,
                          53.926712
                        ],
                        [
                          -7.899109,
                          53.815558
                        ],
                        [
                          -7.887424,
                          53.772237
                        ],
                        [
                          -7.978912,
                          53.694999
                        ],
                        [
                          -8.025938,
                          53.607359
                        ],
                        [
                          -7.95262,
                          53.51238
                        ],
                        [
                          -7.91564,
                          53.353416
                        ],
                        [
                          -8.021734,
                          53.303326
                        ],
                        [
                          -8.020095,
                          53.261501
                        ],
                        [
                          -8.129753,
                          53.262427
                        ],
                        [
                          -8.152838,
                          53.328478
                        ],
                        [
                          -8.242046,
                          53.36104
                        ],
                        [
                          -8.263208,
                          53.516085
                        ],
                        [
                          -8.438631,
                          53.68766
                        ],
                        [
                          -8.611489,
                          53.709535
                        ],
                        [
                          -8.664358,
                          53.670916
                        ],
                        [
                          -8.814985,
                          53.663292
                        ],
                        [
                          -8.696279,
                          53.722716
                        ],
                        [
                          -8.690223,
                          53.874484
                        ],
                        [
                          -8.608211,
                          53.885884
                        ],
                        [
                          -8.682599,
                          53.958704
                        ],
                        [
                          -8.590398,
                          53.968109
                        ],
                        [
                          -8.459722,
                          53.916024
                        ],
                        [
                          -8.373008,
                          53.919088
                        ],
                        [
                          -8.275606,
                          54.047627
                        ],
                        [
                          -8.170794,
                          54.102633
                        ],
                        [
                          -8.133671,
                          54.101422
                        ]
                      ]
                    ]
                  },
                  "type": "Feature",
                  "id": "Roscommon",
                  "properties": {
                    "style": {
                      "color": "black",
                      "fillColor": "#feefd6ff",
                      "weight": 0.9
                    },
                    "id": "Roscommon"
                  }
                },
                {
                  "geometry": {
                    "type": "Polygon",
                    "coordinates": [
                      [
                        [
                          -8.373863,
                          54.468228
                        ],
                        [
                          -8.377782,
                          54.348453
                        ],
                        [
                          -8.310591,
                          54.272855
                        ],
                        [
                          -8.333463,
                          54.1855
                        ],
                        [
                          -8.170794,
                          54.102633
                        ],
                        [
                          -8.275606,
                          54.047627
                        ],
                        [
                          -8.373008,
                          53.919088
                        ],
                        [
                          -8.459722,
                          53.916024
                        ],
                        [
                          -8.590398,
                          53.968109
                        ],
                        [
                          -8.661294,
                          54.025681
                        ],
                        [
                          -8.835078,
                          53.972455
                        ],
                        [
                          -8.913598,
                          54.017701
                        ],
                        [
                          -9.027317,
                          54.030241
                        ],
                        [
                          -8.963404,
                          54.145527
                        ],
                        [
                          -9.138043,
                          54.130707
                        ],
                        [
                          -9.057528,
                          54.295442
                        ],
                        [
                          -8.930271,
                          54.294302
                        ],
                        [
                          -8.827526,
                          54.253474
                        ],
                        [
                          -8.661935,
                          54.272641
                        ],
                        [
                          -8.583629,
                          54.207944
                        ],
                        [
                          -8.508601,
                          54.217349
                        ],
                        [
                          -8.626381,
                          54.255113
                        ],
                        [
                          -8.681886,
                          54.355935
                        ],
                        [
                          -8.490289,
                          54.418209
                        ],
                        [
                          -8.469697,
                          54.470437
                        ],
                        [
                          -8.373863,
                          54.468228
                        ]
                      ]
                    ]
                  },
                  "type": "Feature",
                  "id": "Sligo",
                  "properties": {
                    "style": {
                      "color": "black",
                      "fillColor": "#feedd1ff",
                      "weight": 0.9
                    },
                    "id": "Sligo"
                  }
                },
                {
                  "geometry": {
                    "type": "Polygon",
                    "coordinates": [
                      [
                        [
                          -8.013326,
                          52.909729
                        ],
                        [
                          -7.922337,
                          52.86256
                        ],
                        [
                          -7.822513,
                          52.956256
                        ],
                        [
                          -7.692264,
                          52.982335
                        ],
                        [
                          -7.656923,
                          52.93937
                        ],
                        [
                          -7.686564,
                          52.851444
                        ],
                        [
                          -7.64937,
                          52.790809
                        ],
                        [
                          -7.454139,
                          52.640253
                        ],
                        [
                          -7.386663,
                          52.502451
                        ],
                        [
                          -7.40013,
                          52.455496
                        ],
                        [
                          -7.338853,
                          52.342561
                        ],
                        [
                          -7.545271,
                          52.355671
                        ],
                        [
                          -7.760524,
                          52.314986
                        ],
                        [
                          -7.72219,
                          52.222216
                        ],
                        [
                          -7.944426,
                          52.236466
                        ],
                        [
                          -8.088569,
                          52.215518
                        ],
                        [
                          -8.16032,
                          52.302731
                        ],
                        [
                          -8.230361,
                          52.404265
                        ],
                        [
                          -8.388968,
                          52.438751
                        ],
                        [
                          -8.399157,
                          52.468464
                        ],
                        [
                          -8.197941,
                          52.521333
                        ],
                        [
                          -8.180698,
                          52.666545
                        ],
                        [
                          -8.25708,
                          52.697682
                        ],
                        [
                          -8.358258,
                          52.682648
                        ],
                        [
                          -8.486797,
                          52.717419
                        ],
                        [
                          -8.415403,
                          52.895906
                        ],
                        [
                          -8.315365,
                          52.923338
                        ],
                        [
                          -8.301399,
                          53.004138
                        ],
                        [
                          -8.068404,
                          53.175642
                        ],
                        [
                          -7.904738,
                          53.092491
                        ],
                        [
                          -7.956681,
                          52.952907
                        ],
                        [
                          -8.013326,
                          52.909729
                        ]
                      ]
                    ]
                  },
                  "type": "Feature",
                  "id": "Tipperary",
                  "properties": {
                    "style": {
                      "color": "black",
                      "fillColor": "#fee2baff",
                      "weight": 0.9
                    },
                    "id": "Tipperary"
                  }
                },
                {
                  "geometry": {
                    "type": "Polygon",
                    "coordinates": [
                      [
                        [
                          -7.545271,
                          52.355671
                        ],
                        [
                          -7.338853,
                          52.342561
                        ],
                        [
                          -7.191717,
                          52.251857
                        ],
                        [
                          -6.975182,
                          52.291544
                        ],
                        [
                          -6.958651,
                          52.241525
                        ],
                        [
                          -6.949175,
                          52.177612
                        ],
                        [
                          -7.019714,
                          52.134006
                        ],
                        [
                          -7.088615,
                          52.150679
                        ],
                        [
                          -7.426921,
                          52.129588
                        ],
                        [
                          -7.551398,
                          52.077645
                        ],
                        [
                          -7.585243,
                          51.991501
                        ],
                        [
                          -7.731951,
                          51.937635
                        ],
                        [
                          -7.849731,
                          51.978747
                        ],
                        [
                          -7.927468,
                          51.990147
                        ],
                        [
                          -8.137519,
                          52.159086
                        ],
                        [
                          -8.088569,
                          52.215518
                        ],
                        [
                          -7.944426,
                          52.236466
                        ],
                        [
                          -7.72219,
                          52.222216
                        ],
                        [
                          -7.760524,
                          52.314986
                        ],
                        [
                          -7.545271,
                          52.355671
                        ]
                      ]
                    ]
                  },
                  "type": "Feature",
                  "id": "Waterford",
                  "properties": {
                    "style": {
                      "color": "black",
                      "fillColor": "#fee7c5ff",
                      "weight": 0.9
                    },
                    "id": "Waterford"
                  }
                },
                {
                  "geometry": {
                    "type": "Polygon",
                    "coordinates": [
                      [
                        [
                          -7.28235,
                          53.795394
                        ],
                        [
                          -7.275153,
                          53.783851
                        ],
                        [
                          -7.250928,
                          53.711387
                        ],
                        [
                          -6.962926,
                          53.639494
                        ],
                        [
                          -7.032112,
                          53.514019
                        ],
                        [
                          -7.13614,
                          53.409563
                        ],
                        [
                          -7.337927,
                          53.350709
                        ],
                        [
                          -7.372769,
                          53.317719
                        ],
                        [
                          -7.535224,
                          53.333751
                        ],
                        [
                          -7.586953,
                          53.38377
                        ],
                        [
                          -7.767649,
                          53.329048
                        ],
                        [
                          -7.91564,
                          53.353416
                        ],
                        [
                          -7.95262,
                          53.51238
                        ],
                        [
                          -7.846454,
                          53.538601
                        ],
                        [
                          -7.658348,
                          53.531119
                        ],
                        [
                          -7.591442,
                          53.647545
                        ],
                        [
                          -7.390725,
                          53.735827
                        ],
                        [
                          -7.394715,
                          53.781713
                        ],
                        [
                          -7.28235,
                          53.795394
                        ]
                      ]
                    ]
                  },
                  "type": "Feature",
                  "id": "Westmeath",
                  "properties": {
                    "style": {
                      "color": "black",
                      "fillColor": "#fee9caff",
                      "weight": 0.9
                    },
                    "id": "Westmeath"
                  }
                },
                {
                  "geometry": {
                    "type": "Polygon",
                    "coordinates": [
                      [
                        [
                          -6.958651,
                          52.241525
                        ],
                        [
                          -6.975182,
                          52.291544
                        ],
                        [
                          -6.916185,
                          52.446304
                        ],
                        [
                          -6.810019,
                          52.481218
                        ],
                        [
                          -6.71789,
                          52.633128
                        ],
                        [
                          -6.614788,
                          52.654218
                        ],
                        [
                          -6.592415,
                          52.708085
                        ],
                        [
                          -6.446419,
                          52.698466
                        ],
                        [
                          -6.325575,
                          52.799145
                        ],
                        [
                          -6.144666,
                          52.770716
                        ],
                        [
                          -6.225822,
                          52.648447
                        ],
                        [
                          -6.193046,
                          52.562944
                        ],
                        [
                          -6.353577,
                          52.408469
                        ],
                        [
                          -6.358066,
                          52.344271
                        ],
                        [
                          -6.465799,
                          52.377902
                        ],
                        [
                          -6.429176,
                          52.293753
                        ],
                        [
                          -6.311396,
                          52.240955
                        ],
                        [
                          -6.358636,
                          52.174049
                        ],
                        [
                          -6.48917,
                          52.190722
                        ],
                        [
                          -6.596975,
                          52.169561
                        ],
                        [
                          -6.706917,
                          52.217656
                        ],
                        [
                          -6.836382,
                          52.216801
                        ],
                        [
                          -6.823058,
                          52.174833
                        ],
                        [
                          -6.931361,
                          52.122392
                        ],
                        [
                          -6.903644,
                          52.201268
                        ],
                        [
                          -6.958651,
                          52.241525
                        ]
                      ]
                    ]
                  },
                  "type": "Feature",
                  "id": "Wexford",
                  "properties": {
                    "style": {
                      "color": "black",
                      "fillColor": "#fee5c1ff",
                      "weight": 0.9
                    },
                    "id": "Wexford"
                  }
                },
                {
                  "geometry": {
                    "type": "Polygon",
                    "coordinates": [
                      [
                        [
                          -6.347948,
                          53.200936
                        ],
                        [
                          -6.105263,
                          53.219391
                        ],
                        [
                          -6.041421,
                          53.117928
                        ],
                        [
                          -6.046409,
                          52.989887
                        ],
                        [
                          -5.99696,
                          52.963738
                        ],
                        [
                          -6.057524,
                          52.857358
                        ],
                        [
                          -6.144666,
                          52.770716
                        ],
                        [
                          -6.325575,
                          52.799145
                        ],
                        [
                          -6.446419,
                          52.698466
                        ],
                        [
                          -6.592415,
                          52.708085
                        ],
                        [
                          -6.631176,
                          52.831494
                        ],
                        [
                          -6.51247,
                          52.826791
                        ],
                        [
                          -6.463234,
                          52.893982
                        ],
                        [
                          -6.712332,
                          52.924335
                        ],
                        [
                          -6.745464,
                          53.017747
                        ],
                        [
                          -6.592771,
                          53.092704
                        ],
                        [
                          -6.464161,
                          53.228939
                        ],
                        [
                          -6.347948,
                          53.200936
                        ]
                      ]
                    ]
                  },
                  "type": "Feature",
                  "id": "Wicklow",
                  "properties": {
                    "style": {
                      "color": "black",
                      "fillColor": "#fee3bdff",
                      "weight": 0.9
                    },
                    "id": "Wicklow"
                  }
                }
              ]
            },
            "popup_min_width": 50,
            "_view_module": "jupyter-leaflet",
            "_model_module_version": "^0.14.0",
            "_view_count": null,
            "_view_module_version": "^0.14.0",
            "base": false,
            "popup": null,
            "popup_max_width": 300,
            "popup_max_height": null,
            "point_style": {},
            "_model_module": "jupyter-leaflet",
            "options": []
          }
        }
      }
    }
  },
  "cells": [
    {
      "cell_type": "markdown",
      "metadata": {
        "id": "view-in-github",
        "colab_type": "text"
      },
      "source": [
        "<a href=\"https://colab.research.google.com/github/ericmcg13/CCT-CA1/blob/main/CA1_Report.ipynb\" target=\"_parent\"><img src=\"https://colab.research.google.com/assets/colab-badge.svg\" alt=\"Open In Colab\"/></a>"
      ]
    },
    {
      "cell_type": "markdown",
      "metadata": {
        "id": "hJKbsoh_Dbk4"
      },
      "source": [
        "'Dash' is a required install for use of the plotly graphics and sliders.\n",
        "\n",
        "'ipyleaflet' is used for the geo mapping and Choropleth layer\n",
        "\n"
      ]
    },
    {
      "cell_type": "code",
      "metadata": {
        "colab": {
          "base_uri": "https://localhost:8080/"
        },
        "id": "2MTZWOv0CLzv",
        "outputId": "bc4de1cf-f5ae-4333-bc93-4a0037191542"
      },
      "source": [
        "from google.colab import drive\n",
        "drive.mount('/content/drive')"
      ],
      "execution_count": null,
      "outputs": [
        {
          "name": "stdout",
          "output_type": "stream",
          "text": [
            "Go to this URL in a browser: https://accounts.google.com/o/oauth2/auth?client_id=947318989803-6bn6qk8qdgf4n4g3pfee6491hc0brc4i.apps.googleusercontent.com&redirect_uri=urn%3aietf%3awg%3aoauth%3a2.0%3aoob&scope=email%20https%3a%2f%2fwww.googleapis.com%2fauth%2fdocs.test%20https%3a%2f%2fwww.googleapis.com%2fauth%2fdrive%20https%3a%2f%2fwww.googleapis.com%2fauth%2fdrive.photos.readonly%20https%3a%2f%2fwww.googleapis.com%2fauth%2fpeopleapi.readonly%20https%3a%2f%2fwww.googleapis.com%2fauth%2fdrive.activity.readonly%20https%3a%2f%2fwww.googleapis.com%2fauth%2fexperimentsandconfigs%20https%3a%2f%2fwww.googleapis.com%2fauth%2fphotos.native&response_type=code\n",
            "\n",
            "Enter your authorization code:\n",
            "4/1AX4XfWghgqs3iUrzgCaaWPITgCfzP4IXKRXJ7r8zND24pF8jonGq7ZZfE8g\n"
          ]
        }
      ]
    },
    {
      "cell_type": "markdown",
      "metadata": {
        "id": "oG0Q4JTAOhHt"
      },
      "source": [
        "# New section"
      ]
    },
    {
      "cell_type": "code",
      "metadata": {
        "id": "nO1ZvbK6DHXp",
        "colab": {
          "base_uri": "https://localhost:8080/",
          "height": 1000
        },
        "outputId": "704e5563-bac9-43d1-a1b0-367f683dcf4d"
      },
      "source": [
        "!pip install dash\n",
        "!pip install ipyleaflet"
      ],
      "execution_count": 76,
      "outputs": [
        {
          "output_type": "stream",
          "name": "stdout",
          "text": [
            "Collecting dash\n",
            "  Downloading dash-2.0.0-py3-none-any.whl (7.3 MB)\n",
            "\u001b[K     |████████████████████████████████| 7.3 MB 5.1 MB/s \n",
            "\u001b[?25hCollecting dash-html-components==2.0.0\n",
            "  Downloading dash_html_components-2.0.0.tar.gz (3.8 kB)\n",
            "Collecting dash-core-components==2.0.0\n",
            "  Downloading dash_core_components-2.0.0.tar.gz (3.4 kB)\n",
            "Collecting plotly>=5.0.0\n",
            "  Downloading plotly-5.4.0-py2.py3-none-any.whl (25.3 MB)\n",
            "\u001b[K     |████████████████████████████████| 25.3 MB 1.3 MB/s \n",
            "\u001b[?25hCollecting dash-table==5.0.0\n",
            "  Downloading dash_table-5.0.0.tar.gz (3.4 kB)\n",
            "Collecting flask-compress\n",
            "  Downloading Flask_Compress-1.10.1-py3-none-any.whl (7.9 kB)\n",
            "Requirement already satisfied: Flask>=1.0.4 in /usr/local/lib/python3.7/dist-packages (from dash) (1.1.4)\n",
            "Requirement already satisfied: itsdangerous<2.0,>=0.24 in /usr/local/lib/python3.7/dist-packages (from Flask>=1.0.4->dash) (1.1.0)\n",
            "Requirement already satisfied: click<8.0,>=5.1 in /usr/local/lib/python3.7/dist-packages (from Flask>=1.0.4->dash) (7.1.2)\n",
            "Requirement already satisfied: Werkzeug<2.0,>=0.15 in /usr/local/lib/python3.7/dist-packages (from Flask>=1.0.4->dash) (1.0.1)\n",
            "Requirement already satisfied: Jinja2<3.0,>=2.10.1 in /usr/local/lib/python3.7/dist-packages (from Flask>=1.0.4->dash) (2.11.3)\n",
            "Requirement already satisfied: MarkupSafe>=0.23 in /usr/local/lib/python3.7/dist-packages (from Jinja2<3.0,>=2.10.1->Flask>=1.0.4->dash) (2.0.1)\n",
            "Requirement already satisfied: six in /usr/local/lib/python3.7/dist-packages (from plotly>=5.0.0->dash) (1.15.0)\n",
            "Collecting tenacity>=6.2.0\n",
            "  Downloading tenacity-8.0.1-py3-none-any.whl (24 kB)\n",
            "Collecting brotli\n",
            "  Downloading Brotli-1.0.9-cp37-cp37m-manylinux1_x86_64.whl (357 kB)\n",
            "\u001b[K     |████████████████████████████████| 357 kB 50.5 MB/s \n",
            "\u001b[?25hBuilding wheels for collected packages: dash-core-components, dash-html-components, dash-table\n",
            "  Building wheel for dash-core-components (setup.py) ... \u001b[?25l\u001b[?25hdone\n",
            "  Created wheel for dash-core-components: filename=dash_core_components-2.0.0-py3-none-any.whl size=3821 sha256=ee83edd2ecc3e70ef09fa336717156f8497313553bd5bea8bcce0dae9e173b16\n",
            "  Stored in directory: /root/.cache/pip/wheels/00/f9/c7/1a6437d794ed753ea9bc9079e761d4fc803a1f1f5d3697b9ec\n",
            "  Building wheel for dash-html-components (setup.py) ... \u001b[?25l\u001b[?25hdone\n",
            "  Created wheel for dash-html-components: filename=dash_html_components-2.0.0-py3-none-any.whl size=4089 sha256=332204681bbac50583eb91dba31c17a11f14319c6bf0c94988a8fed53bf76a17\n",
            "  Stored in directory: /root/.cache/pip/wheels/ec/6b/81/05aceabd8b27f724e2c96784016287cc1bfbc349ebfda451de\n",
            "  Building wheel for dash-table (setup.py) ... \u001b[?25l\u001b[?25hdone\n",
            "  Created wheel for dash-table: filename=dash_table-5.0.0-py3-none-any.whl size=3911 sha256=ef0784ede9f7f4f0beb47eb570b36e7ce94e6fd2ddc79554109fcdc18f343c06\n",
            "  Stored in directory: /root/.cache/pip/wheels/85/5d/4e/7c276b57992951dbe770bf5caad6448d0539c510663aefd2e2\n",
            "Successfully built dash-core-components dash-html-components dash-table\n",
            "Installing collected packages: tenacity, brotli, plotly, flask-compress, dash-table, dash-html-components, dash-core-components, dash\n",
            "  Attempting uninstall: plotly\n",
            "    Found existing installation: plotly 4.4.1\n",
            "    Uninstalling plotly-4.4.1:\n",
            "      Successfully uninstalled plotly-4.4.1\n",
            "Successfully installed brotli-1.0.9 dash-2.0.0 dash-core-components-2.0.0 dash-html-components-2.0.0 dash-table-5.0.0 flask-compress-1.10.1 plotly-5.4.0 tenacity-8.0.1\n"
          ]
        },
        {
          "output_type": "display_data",
          "data": {
            "application/vnd.colab-display-data+json": {
              "pip_warning": {
                "packages": [
                  "_plotly_utils",
                  "plotly"
                ]
              }
            }
          },
          "metadata": {}
        },
        {
          "output_type": "stream",
          "name": "stdout",
          "text": [
            "Collecting ipyleaflet\n",
            "  Downloading ipyleaflet-0.14.0-py2.py3-none-any.whl (3.3 MB)\n",
            "\u001b[K     |████████████████████████████████| 3.3 MB 4.9 MB/s \n",
            "\u001b[?25hRequirement already satisfied: ipywidgets<8,>=7.6.0 in /usr/local/lib/python3.7/dist-packages (from ipyleaflet) (7.6.5)\n",
            "Collecting traittypes<3,>=0.2.1\n",
            "  Downloading traittypes-0.2.1-py2.py3-none-any.whl (8.6 kB)\n",
            "Requirement already satisfied: ipykernel>=4.5.1 in /usr/local/lib/python3.7/dist-packages (from ipywidgets<8,>=7.6.0->ipyleaflet) (4.10.1)\n",
            "Requirement already satisfied: nbformat>=4.2.0 in /usr/local/lib/python3.7/dist-packages (from ipywidgets<8,>=7.6.0->ipyleaflet) (5.1.3)\n",
            "Requirement already satisfied: ipython-genutils~=0.2.0 in /usr/local/lib/python3.7/dist-packages (from ipywidgets<8,>=7.6.0->ipyleaflet) (0.2.0)\n",
            "Requirement already satisfied: ipython>=4.0.0 in /usr/local/lib/python3.7/dist-packages (from ipywidgets<8,>=7.6.0->ipyleaflet) (5.5.0)\n",
            "Requirement already satisfied: jupyterlab-widgets>=1.0.0 in /usr/local/lib/python3.7/dist-packages (from ipywidgets<8,>=7.6.0->ipyleaflet) (1.0.2)\n",
            "Requirement already satisfied: traitlets>=4.3.1 in /usr/local/lib/python3.7/dist-packages (from ipywidgets<8,>=7.6.0->ipyleaflet) (5.1.1)\n",
            "Requirement already satisfied: widgetsnbextension~=3.5.0 in /usr/local/lib/python3.7/dist-packages (from ipywidgets<8,>=7.6.0->ipyleaflet) (3.5.2)\n",
            "Requirement already satisfied: jupyter-client in /usr/local/lib/python3.7/dist-packages (from ipykernel>=4.5.1->ipywidgets<8,>=7.6.0->ipyleaflet) (5.3.5)\n",
            "Requirement already satisfied: tornado>=4.0 in /usr/local/lib/python3.7/dist-packages (from ipykernel>=4.5.1->ipywidgets<8,>=7.6.0->ipyleaflet) (5.1.1)\n",
            "Requirement already satisfied: setuptools>=18.5 in /usr/local/lib/python3.7/dist-packages (from ipython>=4.0.0->ipywidgets<8,>=7.6.0->ipyleaflet) (57.4.0)\n",
            "Requirement already satisfied: prompt-toolkit<2.0.0,>=1.0.4 in /usr/local/lib/python3.7/dist-packages (from ipython>=4.0.0->ipywidgets<8,>=7.6.0->ipyleaflet) (1.0.18)\n",
            "Requirement already satisfied: pickleshare in /usr/local/lib/python3.7/dist-packages (from ipython>=4.0.0->ipywidgets<8,>=7.6.0->ipyleaflet) (0.7.5)\n",
            "Requirement already satisfied: pexpect in /usr/local/lib/python3.7/dist-packages (from ipython>=4.0.0->ipywidgets<8,>=7.6.0->ipyleaflet) (4.8.0)\n",
            "Requirement already satisfied: simplegeneric>0.8 in /usr/local/lib/python3.7/dist-packages (from ipython>=4.0.0->ipywidgets<8,>=7.6.0->ipyleaflet) (0.8.1)\n",
            "Requirement already satisfied: pygments in /usr/local/lib/python3.7/dist-packages (from ipython>=4.0.0->ipywidgets<8,>=7.6.0->ipyleaflet) (2.6.1)\n",
            "Requirement already satisfied: decorator in /usr/local/lib/python3.7/dist-packages (from ipython>=4.0.0->ipywidgets<8,>=7.6.0->ipyleaflet) (4.4.2)\n",
            "Requirement already satisfied: jsonschema!=2.5.0,>=2.4 in /usr/local/lib/python3.7/dist-packages (from nbformat>=4.2.0->ipywidgets<8,>=7.6.0->ipyleaflet) (2.6.0)\n",
            "Requirement already satisfied: jupyter-core in /usr/local/lib/python3.7/dist-packages (from nbformat>=4.2.0->ipywidgets<8,>=7.6.0->ipyleaflet) (4.9.1)\n",
            "Requirement already satisfied: six>=1.9.0 in /usr/local/lib/python3.7/dist-packages (from prompt-toolkit<2.0.0,>=1.0.4->ipython>=4.0.0->ipywidgets<8,>=7.6.0->ipyleaflet) (1.15.0)\n",
            "Requirement already satisfied: wcwidth in /usr/local/lib/python3.7/dist-packages (from prompt-toolkit<2.0.0,>=1.0.4->ipython>=4.0.0->ipywidgets<8,>=7.6.0->ipyleaflet) (0.2.5)\n",
            "Requirement already satisfied: notebook>=4.4.1 in /usr/local/lib/python3.7/dist-packages (from widgetsnbextension~=3.5.0->ipywidgets<8,>=7.6.0->ipyleaflet) (5.3.1)\n",
            "Requirement already satisfied: nbconvert in /usr/local/lib/python3.7/dist-packages (from notebook>=4.4.1->widgetsnbextension~=3.5.0->ipywidgets<8,>=7.6.0->ipyleaflet) (5.6.1)\n",
            "Requirement already satisfied: terminado>=0.8.1 in /usr/local/lib/python3.7/dist-packages (from notebook>=4.4.1->widgetsnbextension~=3.5.0->ipywidgets<8,>=7.6.0->ipyleaflet) (0.12.1)\n",
            "Requirement already satisfied: Send2Trash in /usr/local/lib/python3.7/dist-packages (from notebook>=4.4.1->widgetsnbextension~=3.5.0->ipywidgets<8,>=7.6.0->ipyleaflet) (1.8.0)\n",
            "Requirement already satisfied: jinja2 in /usr/local/lib/python3.7/dist-packages (from notebook>=4.4.1->widgetsnbextension~=3.5.0->ipywidgets<8,>=7.6.0->ipyleaflet) (2.11.3)\n",
            "Requirement already satisfied: python-dateutil>=2.1 in /usr/local/lib/python3.7/dist-packages (from jupyter-client->ipykernel>=4.5.1->ipywidgets<8,>=7.6.0->ipyleaflet) (2.8.2)\n",
            "Requirement already satisfied: pyzmq>=13 in /usr/local/lib/python3.7/dist-packages (from jupyter-client->ipykernel>=4.5.1->ipywidgets<8,>=7.6.0->ipyleaflet) (22.3.0)\n",
            "Requirement already satisfied: ptyprocess in /usr/local/lib/python3.7/dist-packages (from terminado>=0.8.1->notebook>=4.4.1->widgetsnbextension~=3.5.0->ipywidgets<8,>=7.6.0->ipyleaflet) (0.7.0)\n",
            "Requirement already satisfied: MarkupSafe>=0.23 in /usr/local/lib/python3.7/dist-packages (from jinja2->notebook>=4.4.1->widgetsnbextension~=3.5.0->ipywidgets<8,>=7.6.0->ipyleaflet) (2.0.1)\n",
            "Requirement already satisfied: testpath in /usr/local/lib/python3.7/dist-packages (from nbconvert->notebook>=4.4.1->widgetsnbextension~=3.5.0->ipywidgets<8,>=7.6.0->ipyleaflet) (0.5.0)\n",
            "Requirement already satisfied: entrypoints>=0.2.2 in /usr/local/lib/python3.7/dist-packages (from nbconvert->notebook>=4.4.1->widgetsnbextension~=3.5.0->ipywidgets<8,>=7.6.0->ipyleaflet) (0.3)\n",
            "Requirement already satisfied: defusedxml in /usr/local/lib/python3.7/dist-packages (from nbconvert->notebook>=4.4.1->widgetsnbextension~=3.5.0->ipywidgets<8,>=7.6.0->ipyleaflet) (0.7.1)\n",
            "Requirement already satisfied: bleach in /usr/local/lib/python3.7/dist-packages (from nbconvert->notebook>=4.4.1->widgetsnbextension~=3.5.0->ipywidgets<8,>=7.6.0->ipyleaflet) (4.1.0)\n",
            "Requirement already satisfied: pandocfilters>=1.4.1 in /usr/local/lib/python3.7/dist-packages (from nbconvert->notebook>=4.4.1->widgetsnbextension~=3.5.0->ipywidgets<8,>=7.6.0->ipyleaflet) (1.5.0)\n",
            "Requirement already satisfied: mistune<2,>=0.8.1 in /usr/local/lib/python3.7/dist-packages (from nbconvert->notebook>=4.4.1->widgetsnbextension~=3.5.0->ipywidgets<8,>=7.6.0->ipyleaflet) (0.8.4)\n",
            "Requirement already satisfied: packaging in /usr/local/lib/python3.7/dist-packages (from bleach->nbconvert->notebook>=4.4.1->widgetsnbextension~=3.5.0->ipywidgets<8,>=7.6.0->ipyleaflet) (21.3)\n",
            "Requirement already satisfied: webencodings in /usr/local/lib/python3.7/dist-packages (from bleach->nbconvert->notebook>=4.4.1->widgetsnbextension~=3.5.0->ipywidgets<8,>=7.6.0->ipyleaflet) (0.5.1)\n",
            "Requirement already satisfied: pyparsing!=3.0.5,>=2.0.2 in /usr/local/lib/python3.7/dist-packages (from packaging->bleach->nbconvert->notebook>=4.4.1->widgetsnbextension~=3.5.0->ipywidgets<8,>=7.6.0->ipyleaflet) (3.0.6)\n",
            "Installing collected packages: traittypes, ipyleaflet\n",
            "Successfully installed ipyleaflet-0.14.0 traittypes-0.2.1\n"
          ]
        }
      ]
    },
    {
      "cell_type": "code",
      "metadata": {
        "id": "UWQIyMwUD0GC"
      },
      "source": [
        "import pandas as pd\n",
        "import matplotlib.pyplot as plt\n",
        "import seaborn as sns\n",
        "import plotly.express as px\n",
        "import numpy as np\n",
        "\n",
        "# Set the plot to retina quality\n",
        "%config InlineBackend.figure_format = \"retina\"\n",
        "\n",
        "# Set the 'talk' library in SNS (Changes the size and labels to graphs to make them bigger)\n",
        "sns.set_context('talk')\n",
        "\n",
        "# Ignore warnings\n",
        "import warnings\n",
        "warnings.filterwarnings('ignore')\n",
        "\n",
        "# Multiple cell outputs\n",
        "from IPython.core.interactiveshell import InteractiveShell\n",
        "InteractiveShell.ast_mode_interactivity = 'all'\n",
        "\n",
        "###\n",
        "\n",
        "# Below is only require for COLAB\n",
        "\n",
        "###\n",
        "from google.colab import drive\n",
        "drive.mount('/content/drive')"
      ],
      "execution_count": null,
      "outputs": []
    },
    {
      "cell_type": "code",
      "metadata": {
        "id": "vGpGvbfXBW-v"
      },
      "source": [
        "migration_df = pd.read_csv(\"/content/drive/MyDrive/Migration.csv\")\n",
        "migration_df.head(5)"
      ],
      "execution_count": null,
      "outputs": []
    },
    {
      "cell_type": "code",
      "metadata": {
        "id": "jyGfTTO7iqPA"
      },
      "source": [
        "migration_df.shape\n",
        "migration_df.info()"
      ],
      "execution_count": null,
      "outputs": []
    },
    {
      "cell_type": "code",
      "metadata": {
        "id": "eINEMoXB89ko"
      },
      "source": [
        "# Remove NaN values\n",
        "migration_df.dropna(inplace=True)"
      ],
      "execution_count": null,
      "outputs": []
    },
    {
      "cell_type": "code",
      "metadata": {
        "id": "Z9pZMJ3cCNDi"
      },
      "source": [
        "migration_df.info()"
      ],
      "execution_count": null,
      "outputs": []
    },
    {
      "cell_type": "code",
      "metadata": {
        "id": "DmPOD3wm9B_z"
      },
      "source": [
        "# Group the totals by age cohort\n",
        "migration_sum_df = migration_df.groupby('Age Group').sum()\n",
        "\n",
        "# Remove the TOTAL column from the graph as it distorts the figures\n",
        "# migration_sum_df.drop(\"All ages\", axis=0, inplace=True)\n",
        "migration_sum_df"
      ],
      "execution_count": null,
      "outputs": []
    },
    {
      "cell_type": "code",
      "metadata": {
        "id": "6chl6eXwCF_5"
      },
      "source": [
        "# Filter the df by NET MIGRATION for ALL AGES and BOTH SEXES to get the totals\n",
        "net_migration = migration_df[(migration_df['Inward or Outward Flow'] == 'Net migration') & \n",
        "                             (migration_df['Age Group'] == 'All ages') &\n",
        "                             (migration_df['Sex'] == 'Both sexes')]\n",
        "net_migration.head()"
      ],
      "execution_count": null,
      "outputs": []
    },
    {
      "cell_type": "code",
      "metadata": {
        "id": "UwLD8P_SkR4M"
      },
      "source": [
        "# Show the inital graph to get a sense of the pattern (if any)\n",
        "fig = px.line(net_migration, x='Year', y='VALUE', color='Sex')\n",
        "fig.show()"
      ],
      "execution_count": null,
      "outputs": []
    },
    {
      "cell_type": "code",
      "metadata": {
        "id": "0QiAJj_Jkes6"
      },
      "source": [
        "# Bring in the Birth/Death dataframe\n",
        "bdm_df = pd.read_csv('/content/drive/MyDrive/BDM_Ireland1960_2021.csv')\n",
        "bdm_df.head()"
      ],
      "execution_count": null,
      "outputs": []
    },
    {
      "cell_type": "code",
      "metadata": {
        "id": "h6O6waIQkeow"
      },
      "source": [
        "bdm_df.info()\n",
        "bdm_df.shape"
      ],
      "execution_count": null,
      "outputs": []
    },
    {
      "cell_type": "code",
      "metadata": {
        "id": "PetcPMdHkemE"
      },
      "source": [
        "# Computer the net delta population growth (birth - death)\n",
        "bdm_df['Growth'] = bdm_df['Births Registered (Number)'] - bdm_df['Deaths Registered (Number)']\n",
        "\n",
        "# Use Lambda to iterate over the values in each cell to remove the QUARTER time values.\n",
        "bdm_df['Quarter'] = bdm_df['Quarter'].map(lambda x: str(x)[:-2])"
      ],
      "execution_count": null,
      "outputs": []
    },
    {
      "cell_type": "code",
      "metadata": {
        "id": "2tb0XTH5kejB"
      },
      "source": [
        "bdm_df.head()"
      ],
      "execution_count": null,
      "outputs": []
    },
    {
      "cell_type": "code",
      "metadata": {
        "id": "rMWDOSFJkefW"
      },
      "source": [
        "# We only need the time and growth delta for graphing\n",
        "growth = bdm_df[['Quarter', 'Growth']].copy()\n",
        "growth = growth.groupby(['Quarter'], as_index=False)['Growth'].sum()\n",
        "\n",
        "# Quarter has been removed, only YEAR remains\n",
        "growth.columns = ['Year', 'Growth Delta']\n",
        "growth.head()"
      ],
      "execution_count": null,
      "outputs": []
    },
    {
      "cell_type": "code",
      "metadata": {
        "id": "LHvFbc6IkecM"
      },
      "source": [
        "# drop years less than 1987 for comparison with Growth\n",
        "compare_growth = growth[growth['Year'] > '1986']\n",
        "\n",
        "fig1 = px.line(compare_growth, x='Year', y='Growth Delta')\n",
        "fig1.show()"
      ],
      "execution_count": null,
      "outputs": []
    },
    {
      "cell_type": "code",
      "metadata": {
        "id": "3X6Tn6idkeS9"
      },
      "source": [
        "# We only need the Year and migration totals for graphing\n",
        "migration_df_simplified = net_migration[['Year', 'VALUE']].copy()\n",
        "\n",
        "# Convert STRING year in compare_growth to INT so that a JOIN can be performed\n",
        "compare_growth['Year'] = pd.to_numeric(compare_growth['Year'])\n",
        "\n",
        "# Join Columns\n",
        "merge_df = pd.merge(compare_growth, migration_df_simplified, how='outer', on='Year')\n",
        "\n",
        "# Fix VALUE column name and add\n",
        "merge_df.rename({'VALUE':'Migration Delta'}, axis=1, inplace=True)\n",
        "merge_df['Migration Delta'] = merge_df['Migration Delta'].apply(lambda x: int(x * 1000))\n",
        "merge_df.head()"
      ],
      "execution_count": null,
      "outputs": []
    },
    {
      "cell_type": "code",
      "metadata": {
        "id": "wflH4WLak8H-"
      },
      "source": [
        "import plotly.graph_objects as go\n",
        "from plotly.subplots import make_subplots\n",
        "\n",
        "# Create figure with secondary y-axis\n",
        "fig2 = make_subplots(specs=[[{\"secondary_y\": True}]])\n",
        "\n",
        "# Add trace - Growth\n",
        "fig2.add_trace(\n",
        "    go.Scatter(x=merge_df['Year'], y=merge_df['Growth Delta'], name=\"Growth\"),\n",
        "    secondary_y=False,\n",
        ")\n",
        "\n",
        "# Add trace - Migration\n",
        "fig2.add_trace(\n",
        "    go.Scatter(x=merge_df['Year'], y=merge_df['Migration Delta'], name=\"Migration\"),\n",
        "    secondary_y=False,\n",
        ")\n",
        "\n",
        "# Add figure title\n",
        "fig2.update_layout(\n",
        "    title_text=\"Pop Growth and Migration\"\n",
        ")\n",
        "\n",
        "# Set x-axis title\n",
        "fig2.update_xaxes(title_text=\"Year\")\n",
        "\n",
        "# Set y-axes titles\n",
        "fig2.update_yaxes(title_text=\"Population\", secondary_y=False)\n",
        "fig2.show()"
      ],
      "execution_count": null,
      "outputs": []
    },
    {
      "cell_type": "code",
      "metadata": {
        "id": "1j5fjOO7lBqR"
      },
      "source": [
        "# Import the employment data\n",
        "employment_df = pd.read_csv('/content/drive/MyDrive/Vacancies.csv')\n",
        "employment_df.head()"
      ],
      "execution_count": null,
      "outputs": []
    },
    {
      "cell_type": "code",
      "metadata": {
        "id": "ERkjg6uRlNBJ"
      },
      "source": [
        "employment_df.info()\n",
        "employment_df.shape"
      ],
      "execution_count": null,
      "outputs": []
    },
    {
      "cell_type": "code",
      "metadata": {
        "id": "rSjc50EylM9K"
      },
      "source": [
        "employment_df['Statistic'].unique()"
      ],
      "execution_count": null,
      "outputs": []
    },
    {
      "cell_type": "code",
      "metadata": {
        "id": "OiLCDdXGlMsQ"
      },
      "source": [
        "# We need the total number of vacancies for all sectors in all industries to get the totals\n",
        "employment_df = employment_df[(employment_df['Statistic'] == 'Number of Job Vacancies') &\n",
        "                             (employment_df['Private or Public Sector'] == 'All sectors') &\n",
        "                             (employment_df['Economic Sector NACE Rev 2'] == 'All NACE economic sectors')] \n",
        "\n",
        "employment_df.head()"
      ],
      "execution_count": null,
      "outputs": []
    },
    {
      "cell_type": "code",
      "metadata": {
        "id": "0lgU0R0mlUMf"
      },
      "source": [
        "# Use Lambda to iterate over the values in each cell and remove QUARTER time data\n",
        "employment_df['Quarter'] = employment_df['Quarter'].map(lambda x: str(x)[:-2])\n",
        "\n",
        "# We only need the year and total vacancies for graphing\n",
        "vacancies_df = employment_df[['Quarter', 'VALUE']].copy()\n",
        "vacancies_df = vacancies_df.groupby(['Quarter'], as_index=False)['VALUE'].sum()\n",
        "\n",
        "# Quarter has been removed, rename to year time frame\n",
        "vacancies_df.columns = ['Year', 'Open Vacancies']\n",
        "vacancies_df.head()"
      ],
      "execution_count": null,
      "outputs": []
    },
    {
      "cell_type": "code",
      "metadata": {
        "id": "-tdNYxNUlcxb"
      },
      "source": [
        "# Add the job vacancies data to the already created graph with the growth and pop data\n",
        "fig2.add_trace(\n",
        "    go.Scatter(x=vacancies_df['Year'], y=vacancies_df['Open Vacancies'], name=\"Open Vacancies\"),\n",
        "    secondary_y=False,\n",
        ")\n",
        "fig2.show()"
      ],
      "execution_count": null,
      "outputs": []
    },
    {
      "cell_type": "code",
      "metadata": {
        "id": "Om4-ZwmNlfgN"
      },
      "source": [
        "# Prepare the merge df to add the job vacancies data (only 2008 onwards is available in vacancies)\n",
        "merge_df = merge_df[merge_df['Year'] >= 2008]\n",
        "\n",
        "# Cast the Year columns as a Int for merge\n",
        "vacancies_df['Year'] = pd.to_numeric(vacancies_df['Year'])\n",
        "\n",
        "# Add the vacancies df with merge\n",
        "merge_df = pd.merge(merge_df, vacancies_df, how='outer', on='Year')\n",
        "merge_df"
      ],
      "execution_count": null,
      "outputs": []
    },
    {
      "cell_type": "code",
      "metadata": {
        "id": "PY_UBbi6lj21"
      },
      "source": [
        "# Appears to be a corr. between migration and job vacancies - is this true?\n",
        "corrMatrix = merge_df.corr()\n",
        "sns.heatmap(corrMatrix, annot=True)\n",
        "plt.show()"
      ],
      "execution_count": null,
      "outputs": []
    },
    {
      "cell_type": "code",
      "metadata": {
        "id": "u9-uIy2llmxT"
      },
      "source": [
        "# Heatmap shows that Migration numbers a moderately correlated to Open Job Vacancies\n",
        "# and that Population growth as a birth/death ratio has been on the decline since 2008\n",
        "# TODO: ML to show projections"
      ],
      "execution_count": null,
      "outputs": []
    },
    {
      "cell_type": "code",
      "metadata": {
        "id": "O9sFgQnKCr6u"
      },
      "source": [
        "# Install the PROPHET dependancies for future series forcasting\n",
        "!pip install pystan\n",
        "!pip install fbprophet"
      ],
      "execution_count": null,
      "outputs": []
    },
    {
      "cell_type": "code",
      "metadata": {
        "id": "egnJxTnIEH6o"
      },
      "source": [
        "from fbprophet import Prophet"
      ],
      "execution_count": null,
      "outputs": []
    },
    {
      "cell_type": "code",
      "metadata": {
        "id": "hi3vGYIvE-eW"
      },
      "source": [
        "# Documentation shows that the time series data must be in DATETIME format. I will convert that here.\n",
        "merge_df['Year'] = pd.to_datetime(merge_df['Year'], format='%Y')\n",
        "merge_df.head()"
      ],
      "execution_count": null,
      "outputs": []
    },
    {
      "cell_type": "code",
      "metadata": {
        "id": "d8sGz1lyHKuc"
      },
      "source": [
        "# The PROPHET documentation shows that the DF needs to only have 2 columns named ['ds' and 'y']\n",
        "prophet_df = merge_df.drop(['Migration Delta', 'Open Vacancies'], axis=1)\n",
        "prophet_df.columns = ['ds', 'y']\n",
        "prophet_df.head()"
      ],
      "execution_count": null,
      "outputs": []
    },
    {
      "cell_type": "code",
      "metadata": {
        "id": "eayhduFsFshz"
      },
      "source": [
        "# train the model\n",
        "m = Prophet(interval_width=0.95)\n",
        "model = m.fit(prophet_df)"
      ],
      "execution_count": null,
      "outputs": []
    },
    {
      "cell_type": "code",
      "metadata": {
        "id": "vV9ncbfPHERC"
      },
      "source": [
        "future = m.make_future_dataframe(periods=10, freq='Y')\n",
        "forcast = m.predict(future)\n",
        "forcast.head()"
      ],
      "execution_count": null,
      "outputs": []
    },
    {
      "cell_type": "code",
      "metadata": {
        "id": "BlFPEsmgIp0E"
      },
      "source": [
        "forcast.tail()"
      ],
      "execution_count": null,
      "outputs": []
    },
    {
      "cell_type": "code",
      "metadata": {
        "id": "ikObmJUUJOr2"
      },
      "source": [
        "fig4 = m.plot(forcast)"
      ],
      "execution_count": null,
      "outputs": []
    },
    {
      "cell_type": "markdown",
      "metadata": {
        "id": "IG-ea4G3MbZg"
      },
      "source": [
        "The forecasting chart above shows that if the population trend continues on its current trajectory, we could expect to see natural population growth to go negative, shortly after 2029. This means that Ireland is going to increasingly rely on immigration in order to support its economy. This will have a big effect on pension payments, tax collection, etc."
      ]
    },
    {
      "cell_type": "code",
      "metadata": {
        "id": "TmygIh5f59dm",
        "colab": {
          "base_uri": "https://localhost:8080/",
          "height": 272
        },
        "outputId": "f79d7fc9-2a37-412c-c9a1-0cd2f6d8d491"
      },
      "source": [
        "births_df = pd.read_csv(\"/content/drive/MyDrive/BirthsByCounty1985_2020.csv\")\n",
        "births_df.head()"
      ],
      "execution_count": 88,
      "outputs": [
        {
          "output_type": "execute_result",
          "data": {
            "text/html": [
              "<div>\n",
              "<style scoped>\n",
              "    .dataframe tbody tr th:only-of-type {\n",
              "        vertical-align: middle;\n",
              "    }\n",
              "\n",
              "    .dataframe tbody tr th {\n",
              "        vertical-align: top;\n",
              "    }\n",
              "\n",
              "    .dataframe thead th {\n",
              "        text-align: right;\n",
              "    }\n",
              "</style>\n",
              "<table border=\"1\" class=\"dataframe\">\n",
              "  <thead>\n",
              "    <tr style=\"text-align: right;\">\n",
              "      <th></th>\n",
              "      <th>Year</th>\n",
              "      <th>County</th>\n",
              "      <th>All Births (Number)</th>\n",
              "      <th>First Births (Number)</th>\n",
              "      <th>Births within Marriage (Number)</th>\n",
              "      <th>Births outside Marriage (Number)</th>\n",
              "      <th>Average Age of Mother (Years)</th>\n",
              "      <th>Average Age of First Time Mother (Years)</th>\n",
              "    </tr>\n",
              "  </thead>\n",
              "  <tbody>\n",
              "    <tr>\n",
              "      <th>0</th>\n",
              "      <td>1985</td>\n",
              "      <td>ROI Total</td>\n",
              "      <td>62388.0</td>\n",
              "      <td>NaN</td>\n",
              "      <td>57106.0</td>\n",
              "      <td>5282.0</td>\n",
              "      <td>29.3</td>\n",
              "      <td>26.0</td>\n",
              "    </tr>\n",
              "    <tr>\n",
              "      <th>1</th>\n",
              "      <td>1985</td>\n",
              "      <td>Dublin City</td>\n",
              "      <td>6645.0</td>\n",
              "      <td>NaN</td>\n",
              "      <td>5132.0</td>\n",
              "      <td>1513.0</td>\n",
              "      <td>28.0</td>\n",
              "      <td>NaN</td>\n",
              "    </tr>\n",
              "    <tr>\n",
              "      <th>2</th>\n",
              "      <td>1985</td>\n",
              "      <td>Fingal</td>\n",
              "      <td>NaN</td>\n",
              "      <td>NaN</td>\n",
              "      <td>NaN</td>\n",
              "      <td>NaN</td>\n",
              "      <td>NaN</td>\n",
              "      <td>NaN</td>\n",
              "    </tr>\n",
              "    <tr>\n",
              "      <th>3</th>\n",
              "      <td>1985</td>\n",
              "      <td>Dun Laoghaire Rathdown</td>\n",
              "      <td>878.0</td>\n",
              "      <td>NaN</td>\n",
              "      <td>754.0</td>\n",
              "      <td>124.0</td>\n",
              "      <td>29.8</td>\n",
              "      <td>NaN</td>\n",
              "    </tr>\n",
              "    <tr>\n",
              "      <th>4</th>\n",
              "      <td>1985</td>\n",
              "      <td>South Dublin</td>\n",
              "      <td>10123.0</td>\n",
              "      <td>NaN</td>\n",
              "      <td>9280.0</td>\n",
              "      <td>843.0</td>\n",
              "      <td>29.3</td>\n",
              "      <td>NaN</td>\n",
              "    </tr>\n",
              "  </tbody>\n",
              "</table>\n",
              "</div>"
            ],
            "text/plain": [
              "   Year  ... Average Age of First Time Mother (Years)\n",
              "0  1985  ...                                     26.0\n",
              "1  1985  ...                                      NaN\n",
              "2  1985  ...                                      NaN\n",
              "3  1985  ...                                      NaN\n",
              "4  1985  ...                                      NaN\n",
              "\n",
              "[5 rows x 8 columns]"
            ]
          },
          "metadata": {},
          "execution_count": 88
        }
      ]
    },
    {
      "cell_type": "code",
      "metadata": {
        "id": "xmU86-v26Ycw",
        "colab": {
          "base_uri": "https://localhost:8080/"
        },
        "outputId": "443c8015-8103-4d42-f72f-a236df01409c"
      },
      "source": [
        "births_df['County'].unique()"
      ],
      "execution_count": 89,
      "outputs": [
        {
          "output_type": "execute_result",
          "data": {
            "text/plain": [
              "array(['ROI Total', 'Dublin City', 'Fingal', 'Dun Laoghaire Rathdown',\n",
              "       'South Dublin', 'Wicklow', 'Carlow', 'Kildare', 'Kilkenny',\n",
              "       'Laois', 'Longford', 'Louth', 'Meath', 'Offaly', 'Westmeath',\n",
              "       'Wexford', 'Waterford County', 'Waterford City', 'Clare',\n",
              "       'Cork City', 'Cork County', 'Kerry', 'Limerick City',\n",
              "       'Limerick County', 'North Tipperary', 'South Tipperary',\n",
              "       'Tipperary', 'Galway City', 'Leitrim', 'Mayo', 'Roscommon',\n",
              "       'Sligo', 'Galway County', 'Cavan', 'Donegal', 'Monaghan',\n",
              "       'Outside the ROI Total'], dtype=object)"
            ]
          },
          "metadata": {},
          "execution_count": 89
        }
      ]
    },
    {
      "cell_type": "code",
      "metadata": {
        "id": "EXFEyR0M-AKi"
      },
      "source": [
        "# This function will tidy up the county names based on the available values in the original file\n",
        "# It should remove all the duplication 'city' classifications and roll the \n",
        "def county_mapping(county):\n",
        "  if 'Dublin' in county or 'Fingal' in county or 'Laoghaire' in county:\n",
        "    return 'Dublin'\n",
        "  elif 'Cork' in county:\n",
        "    return 'Cork'\n",
        "  elif 'Galway' in county:\n",
        "    return 'Galway'\n",
        "  elif 'Limerick' in county:\n",
        "    return 'Limerick'\n",
        "  elif 'Tipperary' in county:\n",
        "    return 'Tipperary'\n",
        "  elif 'Waterford' in county:\n",
        "    return 'Waterford'\n",
        "  else:\n",
        "    return county"
      ],
      "execution_count": 90,
      "outputs": []
    },
    {
      "cell_type": "code",
      "metadata": {
        "colab": {
          "base_uri": "https://localhost:8080/",
          "height": 272
        },
        "id": "442fdGOOQA-9",
        "outputId": "8ef2a4fb-bcae-4be6-d2bf-e90a7cddc335"
      },
      "source": [
        "births_df.dropna(axis=0, how='any', subset=['All Births (Number)'], inplace=True)\n",
        "births_df.head()"
      ],
      "execution_count": 91,
      "outputs": [
        {
          "output_type": "execute_result",
          "data": {
            "text/html": [
              "<div>\n",
              "<style scoped>\n",
              "    .dataframe tbody tr th:only-of-type {\n",
              "        vertical-align: middle;\n",
              "    }\n",
              "\n",
              "    .dataframe tbody tr th {\n",
              "        vertical-align: top;\n",
              "    }\n",
              "\n",
              "    .dataframe thead th {\n",
              "        text-align: right;\n",
              "    }\n",
              "</style>\n",
              "<table border=\"1\" class=\"dataframe\">\n",
              "  <thead>\n",
              "    <tr style=\"text-align: right;\">\n",
              "      <th></th>\n",
              "      <th>Year</th>\n",
              "      <th>County</th>\n",
              "      <th>All Births (Number)</th>\n",
              "      <th>First Births (Number)</th>\n",
              "      <th>Births within Marriage (Number)</th>\n",
              "      <th>Births outside Marriage (Number)</th>\n",
              "      <th>Average Age of Mother (Years)</th>\n",
              "      <th>Average Age of First Time Mother (Years)</th>\n",
              "    </tr>\n",
              "  </thead>\n",
              "  <tbody>\n",
              "    <tr>\n",
              "      <th>0</th>\n",
              "      <td>1985</td>\n",
              "      <td>ROI Total</td>\n",
              "      <td>62388.0</td>\n",
              "      <td>NaN</td>\n",
              "      <td>57106.0</td>\n",
              "      <td>5282.0</td>\n",
              "      <td>29.3</td>\n",
              "      <td>26.0</td>\n",
              "    </tr>\n",
              "    <tr>\n",
              "      <th>1</th>\n",
              "      <td>1985</td>\n",
              "      <td>Dublin City</td>\n",
              "      <td>6645.0</td>\n",
              "      <td>NaN</td>\n",
              "      <td>5132.0</td>\n",
              "      <td>1513.0</td>\n",
              "      <td>28.0</td>\n",
              "      <td>NaN</td>\n",
              "    </tr>\n",
              "    <tr>\n",
              "      <th>3</th>\n",
              "      <td>1985</td>\n",
              "      <td>Dun Laoghaire Rathdown</td>\n",
              "      <td>878.0</td>\n",
              "      <td>NaN</td>\n",
              "      <td>754.0</td>\n",
              "      <td>124.0</td>\n",
              "      <td>29.8</td>\n",
              "      <td>NaN</td>\n",
              "    </tr>\n",
              "    <tr>\n",
              "      <th>4</th>\n",
              "      <td>1985</td>\n",
              "      <td>South Dublin</td>\n",
              "      <td>10123.0</td>\n",
              "      <td>NaN</td>\n",
              "      <td>9280.0</td>\n",
              "      <td>843.0</td>\n",
              "      <td>29.3</td>\n",
              "      <td>NaN</td>\n",
              "    </tr>\n",
              "    <tr>\n",
              "      <th>5</th>\n",
              "      <td>1985</td>\n",
              "      <td>Wicklow</td>\n",
              "      <td>1829.0</td>\n",
              "      <td>NaN</td>\n",
              "      <td>1634.0</td>\n",
              "      <td>195.0</td>\n",
              "      <td>28.9</td>\n",
              "      <td>NaN</td>\n",
              "    </tr>\n",
              "  </tbody>\n",
              "</table>\n",
              "</div>"
            ],
            "text/plain": [
              "   Year  ... Average Age of First Time Mother (Years)\n",
              "0  1985  ...                                     26.0\n",
              "1  1985  ...                                      NaN\n",
              "3  1985  ...                                      NaN\n",
              "4  1985  ...                                      NaN\n",
              "5  1985  ...                                      NaN\n",
              "\n",
              "[5 rows x 8 columns]"
            ]
          },
          "metadata": {},
          "execution_count": 91
        }
      ]
    },
    {
      "cell_type": "code",
      "metadata": {
        "id": "UdYTrc3P6dGF",
        "colab": {
          "base_uri": "https://localhost:8080/",
          "height": 289
        },
        "outputId": "00a62444-6aa6-4aba-a9d6-4aebec0597ac"
      },
      "source": [
        "# We need to clean up the COUNTY column to match values that are inline with the currenty county structure in Ireland\n",
        "# We can start by dropping the ROI totals\n",
        "births_df = births_df[births_df.County != 'ROI Total']\n",
        "\n",
        "# We can use lambda to go through each cell in COUNTY to map to the new county name\n",
        "births_df['Current_County'] = births_df['County'].apply(lambda x: county_mapping(str(x)))\n",
        "births_df.head()"
      ],
      "execution_count": 92,
      "outputs": [
        {
          "output_type": "execute_result",
          "data": {
            "text/html": [
              "<div>\n",
              "<style scoped>\n",
              "    .dataframe tbody tr th:only-of-type {\n",
              "        vertical-align: middle;\n",
              "    }\n",
              "\n",
              "    .dataframe tbody tr th {\n",
              "        vertical-align: top;\n",
              "    }\n",
              "\n",
              "    .dataframe thead th {\n",
              "        text-align: right;\n",
              "    }\n",
              "</style>\n",
              "<table border=\"1\" class=\"dataframe\">\n",
              "  <thead>\n",
              "    <tr style=\"text-align: right;\">\n",
              "      <th></th>\n",
              "      <th>Year</th>\n",
              "      <th>County</th>\n",
              "      <th>All Births (Number)</th>\n",
              "      <th>First Births (Number)</th>\n",
              "      <th>Births within Marriage (Number)</th>\n",
              "      <th>Births outside Marriage (Number)</th>\n",
              "      <th>Average Age of Mother (Years)</th>\n",
              "      <th>Average Age of First Time Mother (Years)</th>\n",
              "      <th>Current_County</th>\n",
              "    </tr>\n",
              "  </thead>\n",
              "  <tbody>\n",
              "    <tr>\n",
              "      <th>1</th>\n",
              "      <td>1985</td>\n",
              "      <td>Dublin City</td>\n",
              "      <td>6645.0</td>\n",
              "      <td>NaN</td>\n",
              "      <td>5132.0</td>\n",
              "      <td>1513.0</td>\n",
              "      <td>28.0</td>\n",
              "      <td>NaN</td>\n",
              "      <td>Dublin</td>\n",
              "    </tr>\n",
              "    <tr>\n",
              "      <th>3</th>\n",
              "      <td>1985</td>\n",
              "      <td>Dun Laoghaire Rathdown</td>\n",
              "      <td>878.0</td>\n",
              "      <td>NaN</td>\n",
              "      <td>754.0</td>\n",
              "      <td>124.0</td>\n",
              "      <td>29.8</td>\n",
              "      <td>NaN</td>\n",
              "      <td>Dublin</td>\n",
              "    </tr>\n",
              "    <tr>\n",
              "      <th>4</th>\n",
              "      <td>1985</td>\n",
              "      <td>South Dublin</td>\n",
              "      <td>10123.0</td>\n",
              "      <td>NaN</td>\n",
              "      <td>9280.0</td>\n",
              "      <td>843.0</td>\n",
              "      <td>29.3</td>\n",
              "      <td>NaN</td>\n",
              "      <td>Dublin</td>\n",
              "    </tr>\n",
              "    <tr>\n",
              "      <th>5</th>\n",
              "      <td>1985</td>\n",
              "      <td>Wicklow</td>\n",
              "      <td>1829.0</td>\n",
              "      <td>NaN</td>\n",
              "      <td>1634.0</td>\n",
              "      <td>195.0</td>\n",
              "      <td>28.9</td>\n",
              "      <td>NaN</td>\n",
              "      <td>Wicklow</td>\n",
              "    </tr>\n",
              "    <tr>\n",
              "      <th>6</th>\n",
              "      <td>1985</td>\n",
              "      <td>Carlow</td>\n",
              "      <td>832.0</td>\n",
              "      <td>NaN</td>\n",
              "      <td>773.0</td>\n",
              "      <td>59.0</td>\n",
              "      <td>28.8</td>\n",
              "      <td>NaN</td>\n",
              "      <td>Carlow</td>\n",
              "    </tr>\n",
              "  </tbody>\n",
              "</table>\n",
              "</div>"
            ],
            "text/plain": [
              "   Year  ... Current_County\n",
              "1  1985  ...         Dublin\n",
              "3  1985  ...         Dublin\n",
              "4  1985  ...         Dublin\n",
              "5  1985  ...        Wicklow\n",
              "6  1985  ...         Carlow\n",
              "\n",
              "[5 rows x 9 columns]"
            ]
          },
          "metadata": {},
          "execution_count": 92
        }
      ]
    },
    {
      "cell_type": "code",
      "metadata": {
        "id": "iY11LEHV_vF4",
        "colab": {
          "base_uri": "https://localhost:8080/",
          "height": 421,
          "referenced_widgets": [
            "1fd00d83b7f74cf496630548512ac2fb",
            "75b4791c959643d7a1e5f69d286adb0a",
            "e1b7abd8879e4268a5ae81bcc5ce99b9",
            "6f43feeedafe49598e403fb4ab92a578",
            "c82c65c5369d473ca2e05f3def7f8653",
            "3510806dc7d34786844e5c3db7e6f851",
            "87a7c2fbbc864865a0f1976cca354332",
            "f377b940904847edbd11078aa6928725",
            "2f28ce5d4b724eecbeb4972295b70661"
          ]
        },
        "outputId": "554cf43e-9307-42dd-f39b-d502c8c78c92"
      },
      "source": [
        "# Time to map map the county data\n",
        "from ipyleaflet import Map, Marker, basemaps, basemap_to_tiles\n",
        "\n",
        "# Below block is only required to display code within Colab\n",
        "from google.colab import output\n",
        "output.enable_custom_widget_manager()\n",
        "\n",
        "# Create the map aspects.\n",
        "center = [53.128, -7.5]\n",
        "zoom = 6\n",
        "\n",
        "# Create a map with the defined aspects.\n",
        "m = Map(basemap=basemaps.OpenStreetMap.Mapnik, center=center, zoom=zoom)\n",
        "m"
      ],
      "execution_count": 93,
      "outputs": [
        {
          "output_type": "display_data",
          "data": {
            "application/vnd.jupyter.widget-view+json": {
              "model_id": "1fd00d83b7f74cf496630548512ac2fb",
              "version_minor": 0,
              "version_major": 2
            },
            "text/plain": [
              "Map(center=[53.128, -7.5], controls=(ZoomControl(options=['position', 'zoom_in_text', 'zoom_in_title', 'zoom_o…"
            ]
          },
          "metadata": {
            "application/vnd.jupyter.widget-view+json": {
              "colab": {
                "custom_widget_manager": {
                  "url": "https://ssl.gstatic.com/colaboratory-static/widgets/colab-cdn-widget-manager/e680a8b83b2ea152/manager.min.js"
                }
              }
            }
          }
        }
      ]
    },
    {
      "cell_type": "code",
      "metadata": {
        "id": "NXNAneOPR3cb"
      },
      "source": [
        "# The map data needs to be read in as a JSON file to work with the GeoJSON library\n",
        "import json\n",
        "map_json = pd.read_json('/content/drive/MyDrive/Ireland.json')\n",
        "\n",
        "with open('/content/drive/MyDrive/Ireland.json') as json_file:\n",
        "    map_data = json.load(json_file)"
      ],
      "execution_count": 94,
      "outputs": []
    },
    {
      "cell_type": "code",
      "metadata": {
        "colab": {
          "base_uri": "https://localhost:8080/"
        },
        "id": "nTOPjNzvTX-s",
        "outputId": "48280b7f-b194-48bc-ac46-e496cbb36a7f"
      },
      "source": [
        "# Here we need to create a function that will output a dictionary with the float density values for \n",
        "# each county by year with the Births dataframe\n",
        "\n",
        "# Within this function, we can filter the dataframe by year and then \n",
        "# cast each element as a list to smash together in a dictionary to create the map layers\n",
        "def births_density(year):\n",
        "  try:\n",
        "    # This sexy line will create a new DF by:\n",
        "    # 1 filter the births_df by year\n",
        "    # 2 group the counties together (when we cleaned up the city values it created some duplicate counties)\n",
        "    # 3 combine the duplicate counties and sum the total ALL BIRTHS\n",
        "    selected_year_df = births_df[births_df['Year'] == year].groupby(['Current_County'], as_index=False)['All Births (Number)'].sum()\n",
        "    \n",
        "    # Create the necessary columns to a list and return them smashed together in a dict\n",
        "    county_list = selected_year_df['Current_County'].tolist()\n",
        "    num_of_births_list = selected_year_df['All Births (Number)'].tolist()\n",
        "    return dict(zip(county_list, num_of_births_list))\n",
        "  except:\n",
        "    return print(\"Unable to derive the correct YEAR and create a dict from values\")\n",
        "\n",
        "# Test\n",
        "#x = births_density(2000)\n",
        "#print(x)"
      ],
      "execution_count": 100,
      "outputs": [
        {
          "output_type": "stream",
          "name": "stdout",
          "text": [
            "{'Carlow': 706.0, 'Cavan': 714.0, 'Clare': 1372.0, 'Cork': 6064.0, 'Donegal': 1772.0, 'Dublin': 16392.0, 'Galway': 2780.0, 'Kerry': 1594.0, 'Kildare': 2881.0, 'Kilkenny': 1047.0, 'Laois': 782.0, 'Leitrim': 295.0, 'Limerick': 2406.0, 'Longford': 441.0, 'Louth': 1535.0, 'Mayo': 1438.0, 'Meath': 1921.0, 'Monaghan': 627.0, 'Offaly': 815.0, 'Roscommon': 500.0, 'Sligo': 734.0, 'Tipperary': 1993.0, 'Waterford': 1423.0, 'Westmeath': 1117.0, 'Wexford': 1616.0, 'Wicklow': 1824.0}\n"
          ]
        }
      ]
    },
    {
      "cell_type": "code",
      "metadata": {
        "id": "UMtdcHcobZvv"
      },
      "source": [
        "# Create the Choropleth to add the shading over the counties\n",
        "import ipyleaflet\n",
        "layer = ipyleaflet.Choropleth(\n",
        "    geo_data=map_data,\n",
        "    choro_data=x\n",
        "    )"
      ],
      "execution_count": 102,
      "outputs": []
    },
    {
      "cell_type": "code",
      "metadata": {
        "colab": {
          "base_uri": "https://localhost:8080/",
          "height": 421,
          "referenced_widgets": [
            "1fd00d83b7f74cf496630548512ac2fb",
            "75b4791c959643d7a1e5f69d286adb0a",
            "e1b7abd8879e4268a5ae81bcc5ce99b9",
            "6f43feeedafe49598e403fb4ab92a578",
            "c82c65c5369d473ca2e05f3def7f8653",
            "3510806dc7d34786844e5c3db7e6f851",
            "87a7c2fbbc864865a0f1976cca354332",
            "2f28ce5d4b724eecbeb4972295b70661",
            "f377b940904847edbd11078aa6928725"
          ]
        },
        "id": "xwzgE5Rjfybn",
        "outputId": "c1a6b739-c8ea-4b90-d852-36db48e7f26a"
      },
      "source": [
        "# Add the Choropleth layer to the map and show\n",
        "m.add_layer(layer)\n",
        "m"
      ],
      "execution_count": 103,
      "outputs": [
        {
          "output_type": "display_data",
          "data": {
            "application/vnd.jupyter.widget-view+json": {
              "model_id": "1fd00d83b7f74cf496630548512ac2fb",
              "version_minor": 0,
              "version_major": 2
            },
            "text/plain": [
              "Map(bottom=5527.0, center=[53.128, -7.5], controls=(ZoomControl(options=['position', 'zoom_in_text', 'zoom_in_…"
            ]
          },
          "metadata": {
            "application/vnd.jupyter.widget-view+json": {
              "colab": {
                "custom_widget_manager": {
                  "url": "https://ssl.gstatic.com/colaboratory-static/widgets/colab-cdn-widget-manager/e680a8b83b2ea152/manager.min.js"
                }
              }
            }
          }
        }
      ]
    },
    {
      "cell_type": "code",
      "metadata": {
        "id": "S-PiQ4OGf_uK"
      },
      "source": [
        "# TODO: Add the sliders"
      ],
      "execution_count": null,
      "outputs": []
    }
  ]
}